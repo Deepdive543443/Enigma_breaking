{
 "cells": [
  {
   "cell_type": "code",
   "execution_count": 1,
   "metadata": {
    "collapsed": true,
    "pycharm": {
     "name": "#%%\n"
    }
   },
   "outputs": [],
   "source": [
    "from enigma.machine import EnigmaMachine"
   ]
  },
  {
   "cell_type": "code",
   "execution_count": 2,
   "outputs": [],
   "source": [
    "enigma_machine = EnigmaMachine.from_key_sheet(\n",
    "            rotors='II IV V',\n",
    "            reflector='B',\n",
    "            ring_settings=[1, 20, 11],\n",
    "            plugboard_settings='AV BS CG DL FU HZ IN KM OW RX'\n",
    "        )"
   ],
   "metadata": {
    "collapsed": false,
    "pycharm": {
     "name": "#%%\n"
    }
   }
  },
  {
   "cell_type": "code",
   "execution_count": 3,
   "outputs": [],
   "source": [
    "ciphertext = ''\n",
    "states = ['AES']\n",
    "\n",
    "enigma_machine.set_display(states[0])\n",
    "plaintext = 'WEARETHECHAMPION'"
   ],
   "metadata": {
    "collapsed": false,
    "pycharm": {
     "name": "#%%\n"
    }
   }
  },
  {
   "cell_type": "code",
   "execution_count": 4,
   "outputs": [],
   "source": [
    "for char in plaintext:\n",
    "    ciphertext += enigma_machine.process_text(char)\n",
    "    states.append(enigma_machine.get_display())"
   ],
   "metadata": {
    "collapsed": false,
    "pycharm": {
     "name": "#%%\n"
    }
   }
  },
  {
   "cell_type": "code",
   "execution_count": 5,
   "outputs": [
    {
     "name": "stdout",
     "output_type": "stream",
     "text": [
      "16 16 16\n",
      "W -> V AES\n",
      "E -> M AET\n",
      "A -> P AEU\n",
      "R -> D AEV\n",
      "E -> T AEW\n",
      "T -> A AEX\n",
      "H -> J AEY\n",
      "E -> Y AEZ\n",
      "C -> T AFA\n",
      "H -> X AFB\n",
      "A -> D AFC\n",
      "M -> Z AFD\n",
      "P -> N AFE\n",
      "I -> E AFF\n",
      "O -> F AFG\n",
      "N -> O AFH\n"
     ]
    }
   ],
   "source": [
    "print(len(plaintext), len(ciphertext), len(states[:-1]))\n",
    "for plain, cipher, state in zip(plaintext, ciphertext, states[:-1]):\n",
    "    print(f'{plain} -> {cipher} {state}' )"
   ],
   "metadata": {
    "collapsed": false,
    "pycharm": {
     "name": "#%%\n"
    }
   }
  },
  {
   "cell_type": "code",
   "execution_count": 6,
   "outputs": [
    {
     "data": {
      "text/plain": "torch.Size([6, 3])"
     },
     "execution_count": 6,
     "metadata": {},
     "output_type": "execute_result"
    }
   ],
   "source": [
    "from dataset import Enigma_simulate_cp_2_k_limited\n",
    "from config import args\n",
    "dataset = Enigma_simulate_cp_2_k_limited(args=args)\n",
    "\n",
    "dataset.get_cipher_plain_positions(4563, 6)[2].shape"
   ],
   "metadata": {
    "collapsed": false,
    "pycharm": {
     "name": "#%%\n"
    }
   }
  }
 ],
 "metadata": {
  "kernelspec": {
   "display_name": "Python 3",
   "language": "python",
   "name": "python3"
  },
  "language_info": {
   "codemirror_mode": {
    "name": "ipython",
    "version": 2
   },
   "file_extension": ".py",
   "mimetype": "text/x-python",
   "name": "python",
   "nbconvert_exporter": "python",
   "pygments_lexer": "ipython2",
   "version": "2.7.6"
  }
 },
 "nbformat": 4,
 "nbformat_minor": 0
}