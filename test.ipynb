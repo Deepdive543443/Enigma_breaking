{
 "cells": [
  {
   "cell_type": "code",
   "execution_count": 1,
   "metadata": {
    "collapsed": true,
    "pycharm": {
     "name": "#%%\n"
    }
   },
   "outputs": [],
   "source": [
    "import torch\n",
    "from model import Encoder, cp_2_key_model, cp_2_k_mask\n",
    "from config import args\n",
    "from dataset import Enigma_simulate_c_2_p, Enigma_simulate_cp_2_k_limited, Enigma_simulate_cp_2_k\n",
    "from torch.utils.data import DataLoader\n",
    "import math\n",
    "from torchsummary import summary\n",
    "from tqdm import tqdm"
   ]
  },
  {
   "cell_type": "markdown",
   "source": [
    "Copying the compiled weight to regular models"
   ],
   "metadata": {
    "collapsed": false,
    "pycharm": {
     "name": "#%% md\n"
    }
   }
  },
  {
   "cell_type": "code",
   "execution_count": 2,
   "outputs": [],
   "source": [
    "# Load trained model's weights and config\n",
    "ckpt = torch.load('CP2K_RNN_ENC_ckpt.pt')\n",
    "ckpt_args = ckpt['args']\n",
    "\n",
    "# Initialize new model by configs\n",
    "model = cp_2_k_mask(args=ckpt_args, out_channels=26)\n",
    "model.to('cuda')\n",
    "model.eval()\n",
    "\n",
    "weights = []\n",
    "for k, v in ckpt['weights'].items():\n",
    "    weights.append(v)\n",
    "\n",
    "for idx, (k, v) in enumerate(model.state_dict().items()):\n",
    "    # Copying weights\n",
    "    # We have to copying like this, i am so confused\n",
    "    v *= 0\n",
    "    v += weights[idx].detach()"
   ],
   "metadata": {
    "collapsed": false,
    "pycharm": {
     "name": "#%%\n"
    }
   }
  },
  {
   "cell_type": "markdown",
   "source": [
    "Running a mini batch of examples"
   ],
   "metadata": {
    "collapsed": false,
    "pycharm": {
     "name": "#%% md\n"
    }
   }
  },
  {
   "cell_type": "code",
   "execution_count": 3,
   "outputs": [
    {
     "name": "stdout",
     "output_type": "stream",
     "text": [
      "Input shape: torch.Size([30, 512, 52])\n",
      "Target shape: torch.Size([3, 30, 512])\n",
      "Mask shape: torch.Size([512, 30])\n",
      "Output shape: torch.Size([3, 30, 512, 26])\n",
      "Acc: 0.9988064765930176\n"
     ]
    }
   ],
   "source": [
    "dataset = Enigma_simulate_cp_2_k_limited(args=args)\n",
    "dataloader = DataLoader(\n",
    "        dataset=dataset,\n",
    "        batch_size=512,\n",
    "        collate_fn=dataset.collate_fn_padding,\n",
    "        shuffle=True\n",
    "    )\n",
    "\n",
    "for inputs, targets, masks in dataloader:\n",
    "    inputs, targets, masks = inputs.to('cuda'), targets.to('cuda'), masks.to('cuda')\n",
    "\n",
    "\n",
    "    outputs = model(inputs, masks)\n",
    "\n",
    "    print(f\"Input shape: {inputs.shape}\\nTarget shape: {targets.shape}\\nMask shape: {masks.shape}\\nOutput shape: {outputs.shape}\")\n",
    "    # print(masks, targets[1][~masks.T].shape, outputs[1][~masks.T].shape)\n",
    "    break\n",
    "\n",
    "true_positive = 0\n",
    "samples = 0\n",
    "\n",
    "outputs_indices = torch.argmax(outputs, dim=-1) # -> [rotor, seq, batch]\n",
    "for rotor in range(outputs_indices.shape[0]):\n",
    "    mask = outputs_indices[rotor][~masks.T] == targets[rotor][~masks.T]\n",
    "    true_positive += mask.sum()\n",
    "    samples += math.prod(mask.shape)\n",
    "\n",
    "print(f\"Acc: {true_positive / samples}\")"
   ],
   "metadata": {
    "collapsed": false,
    "pycharm": {
     "name": "#%%\n"
    }
   }
  },
  {
   "cell_type": "code",
   "execution_count": 4,
   "outputs": [
    {
     "name": "stdout",
     "output_type": "stream",
     "text": [
      "Prediction: AES\n"
     ]
    }
   ],
   "source": [
    "# Make prediction based on user's inputs\n",
    "inputs, masks = dataset.cipher_plain_text_2_tensor('VMPDTAJYTXDZNEFOSOTPJOYSMOEBNX', 'WEARETHECHAMPIONANDTHEBESTPLAY') # Predict on usr inputs\n",
    "inputs, masks = inputs.to('cuda'), masks.to('cuda')\n",
    "\n",
    "with torch.no_grad():\n",
    "    outputs = model(inputs, masks).argmax(dim=-1).squeeze(-1) # -> shape [rotor, seq]\n",
    "print(f\"Prediction: {chr(ord('A') + outputs[0, 0])}\"\n",
    "      f\"{chr(ord('A') + outputs[1, 0])}\"\n",
    "      f\"{chr(ord('A') + outputs[2, 0])}\")"
   ],
   "metadata": {
    "collapsed": false,
    "pycharm": {
     "name": "#%%\n"
    }
   }
  },
  {
   "cell_type": "code",
   "execution_count": 5,
   "outputs": [
    {
     "name": "stderr",
     "output_type": "stream",
     "text": [
      "Length: 5: 100%|██████████| 35/35 [00:04<00:00,  7.39it/s]\n"
     ]
    },
    {
     "name": "stdout",
     "output_type": "stream",
     "text": [
      "Acc: 0.0918278694152832\n"
     ]
    },
    {
     "name": "stderr",
     "output_type": "stream",
     "text": [
      "Length: 6: 100%|██████████| 35/35 [00:06<00:00,  5.65it/s]\n"
     ]
    },
    {
     "name": "stdout",
     "output_type": "stream",
     "text": [
      "Acc: 0.12585817277431488\n"
     ]
    },
    {
     "name": "stderr",
     "output_type": "stream",
     "text": [
      "Length: 7: 100%|██████████| 35/35 [00:06<00:00,  5.13it/s]\n"
     ]
    },
    {
     "name": "stdout",
     "output_type": "stream",
     "text": [
      "Acc: 0.1746632307767868\n"
     ]
    },
    {
     "name": "stderr",
     "output_type": "stream",
     "text": [
      "Length: 8: 100%|██████████| 35/35 [00:06<00:00,  5.19it/s]\n"
     ]
    },
    {
     "name": "stdout",
     "output_type": "stream",
     "text": [
      "Acc: 0.23262310028076172\n"
     ]
    },
    {
     "name": "stderr",
     "output_type": "stream",
     "text": [
      "Length: 9: 100%|██████████| 35/35 [00:07<00:00,  4.85it/s]\n"
     ]
    },
    {
     "name": "stdout",
     "output_type": "stream",
     "text": [
      "Acc: 0.31527945399284363\n"
     ]
    },
    {
     "name": "stderr",
     "output_type": "stream",
     "text": [
      "Length: 10: 100%|██████████| 35/35 [00:06<00:00,  5.11it/s]\n"
     ]
    },
    {
     "name": "stdout",
     "output_type": "stream",
     "text": [
      "Acc: 0.411990761756897\n"
     ]
    },
    {
     "name": "stderr",
     "output_type": "stream",
     "text": [
      "Length: 11: 100%|██████████| 35/35 [00:07<00:00,  4.64it/s]\n"
     ]
    },
    {
     "name": "stdout",
     "output_type": "stream",
     "text": [
      "Acc: 0.5004810094833374\n"
     ]
    },
    {
     "name": "stderr",
     "output_type": "stream",
     "text": [
      "Length: 12: 100%|██████████| 35/35 [00:08<00:00,  4.35it/s]\n"
     ]
    },
    {
     "name": "stdout",
     "output_type": "stream",
     "text": [
      "Acc: 0.5696949362754822\n"
     ]
    },
    {
     "name": "stderr",
     "output_type": "stream",
     "text": [
      "Length: 13: 100%|██████████| 35/35 [00:10<00:00,  3.40it/s]\n"
     ]
    },
    {
     "name": "stdout",
     "output_type": "stream",
     "text": [
      "Acc: 0.6220749616622925\n"
     ]
    },
    {
     "name": "stderr",
     "output_type": "stream",
     "text": [
      "Length: 14: 100%|██████████| 35/35 [00:09<00:00,  3.84it/s]\n"
     ]
    },
    {
     "name": "stdout",
     "output_type": "stream",
     "text": [
      "Acc: 0.6693949699401855\n"
     ]
    },
    {
     "name": "stderr",
     "output_type": "stream",
     "text": [
      "Length: 15: 100%|██████████| 35/35 [00:08<00:00,  4.04it/s]\n"
     ]
    },
    {
     "name": "stdout",
     "output_type": "stream",
     "text": [
      "Acc: 0.719672679901123\n"
     ]
    },
    {
     "name": "stderr",
     "output_type": "stream",
     "text": [
      "Length: 16: 100%|██████████| 35/35 [00:08<00:00,  4.02it/s]\n"
     ]
    },
    {
     "name": "stdout",
     "output_type": "stream",
     "text": [
      "Acc: 0.7701843976974487\n"
     ]
    },
    {
     "name": "stderr",
     "output_type": "stream",
     "text": [
      "Length: 17: 100%|██████████| 35/35 [00:09<00:00,  3.77it/s]\n"
     ]
    },
    {
     "name": "stdout",
     "output_type": "stream",
     "text": [
      "Acc: 0.8135414123535156\n"
     ]
    },
    {
     "name": "stderr",
     "output_type": "stream",
     "text": [
      "Length: 18: 100%|██████████| 35/35 [00:09<00:00,  3.78it/s]\n"
     ]
    },
    {
     "name": "stdout",
     "output_type": "stream",
     "text": [
      "Acc: 0.8535197377204895\n"
     ]
    },
    {
     "name": "stderr",
     "output_type": "stream",
     "text": [
      "Length: 19: 100%|██████████| 35/35 [00:09<00:00,  3.64it/s]\n"
     ]
    },
    {
     "name": "stdout",
     "output_type": "stream",
     "text": [
      "Acc: 0.8924151062965393\n"
     ]
    },
    {
     "name": "stderr",
     "output_type": "stream",
     "text": [
      "Length: 20: 100%|██████████| 35/35 [00:09<00:00,  3.54it/s]\n"
     ]
    },
    {
     "name": "stdout",
     "output_type": "stream",
     "text": [
      "Acc: 0.9287721514701843\n"
     ]
    },
    {
     "name": "stderr",
     "output_type": "stream",
     "text": [
      "Length: 21: 100%|██████████| 35/35 [00:10<00:00,  3.48it/s]\n"
     ]
    },
    {
     "name": "stdout",
     "output_type": "stream",
     "text": [
      "Acc: 0.959744930267334\n"
     ]
    },
    {
     "name": "stderr",
     "output_type": "stream",
     "text": [
      "Length: 22: 100%|██████████| 35/35 [00:10<00:00,  3.36it/s]\n"
     ]
    },
    {
     "name": "stdout",
     "output_type": "stream",
     "text": [
      "Acc: 0.9798088669776917\n"
     ]
    },
    {
     "name": "stderr",
     "output_type": "stream",
     "text": [
      "Length: 23: 100%|██████████| 35/35 [00:10<00:00,  3.32it/s]\n"
     ]
    },
    {
     "name": "stdout",
     "output_type": "stream",
     "text": [
      "Acc: 0.989845335483551\n"
     ]
    },
    {
     "name": "stderr",
     "output_type": "stream",
     "text": [
      "Length: 24: 100%|██████████| 35/35 [00:10<00:00,  3.24it/s]\n"
     ]
    },
    {
     "name": "stdout",
     "output_type": "stream",
     "text": [
      "Acc: 0.9940057396888733\n"
     ]
    },
    {
     "name": "stderr",
     "output_type": "stream",
     "text": [
      "Length: 25: 100%|██████████| 35/35 [00:11<00:00,  3.18it/s]\n"
     ]
    },
    {
     "name": "stdout",
     "output_type": "stream",
     "text": [
      "Acc: 0.9963889718055725\n"
     ]
    },
    {
     "name": "stderr",
     "output_type": "stream",
     "text": [
      "Length: 26: 100%|██████████| 35/35 [00:11<00:00,  3.11it/s]\n"
     ]
    },
    {
     "name": "stdout",
     "output_type": "stream",
     "text": [
      "Acc: 0.9973674416542053\n"
     ]
    },
    {
     "name": "stderr",
     "output_type": "stream",
     "text": [
      "Length: 27: 100%|██████████| 35/35 [00:11<00:00,  2.98it/s]\n"
     ]
    },
    {
     "name": "stdout",
     "output_type": "stream",
     "text": [
      "Acc: 0.9980373978614807\n"
     ]
    },
    {
     "name": "stderr",
     "output_type": "stream",
     "text": [
      "Length: 28: 100%|██████████| 35/35 [00:11<00:00,  2.93it/s]\n"
     ]
    },
    {
     "name": "stdout",
     "output_type": "stream",
     "text": [
      "Acc: 0.9984014630317688\n"
     ]
    },
    {
     "name": "stderr",
     "output_type": "stream",
     "text": [
      "Length: 29: 100%|██████████| 35/35 [00:12<00:00,  2.81it/s]"
     ]
    },
    {
     "name": "stdout",
     "output_type": "stream",
     "text": [
      "Acc: 0.9985520839691162\n"
     ]
    },
    {
     "name": "stderr",
     "output_type": "stream",
     "text": [
      "\n"
     ]
    }
   ],
   "source": [
    "# Testint accuracy in different length\n",
    "testing_args = args\n",
    "results = {}\n",
    "\n",
    "\n",
    "for length in range(5, 30):\n",
    "    testing_args['SEQ_LENGTH'] = [length, length]\n",
    "    dataset = Enigma_simulate_cp_2_k_limited(args=testing_args, mode='test')\n",
    "    dataloader = DataLoader(\n",
    "        dataset=dataset,\n",
    "        batch_size=1024,\n",
    "        collate_fn=dataset.collate_fn_padding,\n",
    "        shuffle=False,\n",
    "        drop_last=False\n",
    "    )\n",
    "\n",
    "    # Tracking\n",
    "    true_positive = 0\n",
    "    samples = 0\n",
    "\n",
    "    bar = tqdm(dataloader, leave=True)\n",
    "    bar.set_description_str(f\"Length: {length}\")\n",
    "\n",
    "    for inputs, targets, masks in bar:\n",
    "        inputs, targets, masks = inputs.to('cuda'), targets.to('cuda'), masks.to('cuda')\n",
    "\n",
    "        # Making prediction\n",
    "        # with torch.cuda.amp.autocast():\n",
    "        with torch.no_grad():\n",
    "            outputs = model(inputs, masks)\n",
    "\n",
    "            # Compute accuracy\n",
    "            outputs_indices = torch.argmax(outputs, dim=-1) # -> [rotor, seq, batch]\n",
    "            for rotor in range(outputs_indices.shape[0]):\n",
    "                mask = outputs_indices[rotor][~masks.T] == targets[rotor][~masks.T]\n",
    "                true_positive += mask.sum()\n",
    "                samples += math.prod(mask.shape)\n",
    "\n",
    "        # Set bar's postfix\n",
    "        bar.set_postfix_str(f\"Acc: {(true_positive / samples).item()}\")\n",
    "\n",
    "    # Output and record the result\n",
    "    results[length] = (true_positive / samples).item()\n",
    "    print(f\"Acc: {true_positive / samples}\")"
   ],
   "metadata": {
    "collapsed": false,
    "pycharm": {
     "name": "#%%\n"
    }
   }
  },
  {
   "cell_type": "markdown",
   "source": [
    "Ploting the results"
   ],
   "metadata": {
    "collapsed": false,
    "pycharm": {
     "name": "#%% md\n"
    }
   }
  },
  {
   "cell_type": "code",
   "execution_count": 6,
   "outputs": [
    {
     "name": "stdout",
     "output_type": "stream",
     "text": [
      "[5, 6, 7, 8, 9, 10, 11, 12, 13, 14, 15, 16, 17, 18, 19, 20, 21, 22, 23, 24, 25, 26, 27, 28, 29] [0.0918278694152832, 0.12585817277431488, 0.1746632307767868, 0.23262310028076172, 0.31527945399284363, 0.411990761756897, 0.5004810094833374, 0.5696949362754822, 0.6220749616622925, 0.6693949699401855, 0.719672679901123, 0.7701843976974487, 0.8135414123535156, 0.8535197377204895, 0.8924151062965393, 0.9287721514701843, 0.959744930267334, 0.9798088669776917, 0.989845335483551, 0.9940057396888733, 0.9963889718055725, 0.9973674416542053, 0.9980373978614807, 0.9984014630317688, 0.9985520839691162]\n"
     ]
    },
    {
     "data": {
      "text/plain": "Text(0.5, 0, 'Length')"
     },
     "execution_count": 6,
     "metadata": {},
     "output_type": "execute_result"
    },
    {
     "data": {
      "text/plain": "<Figure size 640x480 with 1 Axes>",
      "image/png": "[encoded data removed]"
     },
     "metadata": {},
     "output_type": "display_data"
    }
   ],
   "source": [
    "import matplotlib.pyplot as plt\n",
    "x = list(results.keys())\n",
    "y = list(results.values())\n",
    "\n",
    "print(x, y)\n",
    "\n",
    "fig, ax = plt.subplots()\n",
    "ax.bar(x,height=y)\n",
    "ax.set_ylabel('Acc')\n",
    "ax.set_xlabel('Length')\n",
    "# ax.plot(bins, y, '--')"
   ],
   "metadata": {
    "collapsed": false,
    "pycharm": {
     "name": "#%%\n"
    }
   }
  }
 ],
 "metadata": {
  "kernelspec": {
   "display_name": "Python 3",
   "language": "python",
   "name": "python3"
  },
  "language_info": {
   "codemirror_mode": {
    "name": "ipython",
    "version": 2
   },
   "file_extension": ".py",
   "mimetype": "text/x-python",
   "name": "python",
   "nbconvert_exporter": "python",
   "pygments_lexer": "ipython2",
   "version": "2.7.6"
  }
 },
 "nbformat": 4,
 "nbformat_minor": 0
}