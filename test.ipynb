{
 "cells": [
  {
   "cell_type": "code",
   "execution_count": 1,
   "metadata": {
    "pycharm": {
     "name": "#%%\n"
    }
   },
   "outputs": [],
   "source": [
    "import torch\n",
    "import numpy as np\n",
    "from model import cp_2_k_mask\n",
    "from config import args\n",
    "from dataset import Enigma_simulate_c_2_p, Enigma_simulate_cp_2_k_limited, Enigma_simulate_cp_2_k\n",
    "from torch.utils.data import DataLoader\n",
    "import math\n",
    "from torchsummary import summary\n",
    "from tqdm import tqdm"
   ]
  },
  {
   "cell_type": "markdown",
   "metadata": {
    "pycharm": {
     "name": "#%% md\n"
    }
   },
   "source": [
    "Copying the compiled weight to regular models"
   ]
  },
  {
   "cell_type": "code",
   "execution_count": 2,
   "metadata": {
    "pycharm": {
     "name": "#%%\n"
    }
   },
   "outputs": [
    {
     "name": "stdout",
     "output_type": "stream",
     "text": [
      "Parameters: 27408974\n"
     ]
    },
    {
     "data": {
      "text/plain": [
       "cp_2_k_mask(\n",
       "  (networks): ModuleList(\n",
       "    (0): RNN_encoder(\n",
       "      (enc): LSTM(512, 512, num_layers=2, dropout=0.2, bidirectional=True)\n",
       "      (dropout): Dropout(p=0.2, inplace=False)\n",
       "    )\n",
       "    (1): TransformerEncoder(\n",
       "      (layers): ModuleList(\n",
       "        (0-1): 2 x TransformerEncoderLayer(\n",
       "          (self_attn): MultiheadAttention(\n",
       "            (out_proj): NonDynamicallyQuantizableLinear(in_features=1024, out_features=1024, bias=True)\n",
       "          )\n",
       "          (linear1): Linear(in_features=1024, out_features=2048, bias=True)\n",
       "          (dropout): Dropout(p=0.2, inplace=False)\n",
       "          (linear2): Linear(in_features=2048, out_features=1024, bias=True)\n",
       "          (norm1): LayerNorm((1024,), eps=1e-05, elementwise_affine=True)\n",
       "          (norm2): LayerNorm((1024,), eps=1e-05, elementwise_affine=True)\n",
       "          (dropout1): Dropout(p=0.2, inplace=False)\n",
       "          (dropout2): Dropout(p=0.2, inplace=False)\n",
       "        )\n",
       "      )\n",
       "    )\n",
       "  )\n",
       "  (linear_projectors): Linear(in_features=1024, out_features=78, bias=True)\n",
       "  (emb): Linear(in_features=52, out_features=512, bias=True)\n",
       "  (dropout): Dropout(p=0.2, inplace=False)\n",
       ")"
      ]
     },
     "execution_count": 2,
     "metadata": {},
     "output_type": "execute_result"
    }
   ],
   "source": [
    "# Load trained model's weights and config\n",
    "ckpt = torch.load('tensorboard/seq5/CP2K_RNN_ENC_ckpt.pt')\n",
    "ckpt_args = ckpt['args']\n",
    "\n",
    "# Initialize new model by configs\n",
    "model = cp_2_k_mask(args=ckpt_args, out_channels=26)\n",
    "model.to('cuda')\n",
    "model.eval()\n",
    "\n",
    "# Load weights, calculate the number of parameters\n",
    "weights = []\n",
    "num_param = 0\n",
    "for k, v in ckpt['weights'].items():\n",
    "    weights.append(v)\n",
    "    num_param += np.prod(v.shape)\n",
    "print(f\"Parameters: {num_param}\")\n",
    "\n",
    "# Copying weights from compile model to new model\n",
    "for idx, (k, v) in enumerate(model.state_dict().items()):\n",
    "    # We have to copying like this, I am so confused\n",
    "    v *= 0\n",
    "    v += weights[idx].detach()\n",
    "\n",
    "# Set the model to evaluate mode\n",
    "model.eval()"
   ]
  },
  {
   "cell_type": "markdown",
   "metadata": {
    "pycharm": {
     "name": "#%% md\n"
    }
   },
   "source": [
    "Running a mini batch of examples"
   ]
  },
  {
   "cell_type": "code",
   "execution_count": 3,
   "metadata": {
    "pycharm": {
     "name": "#%%\n"
    }
   },
   "outputs": [
    {
     "name": "stdout",
     "output_type": "stream",
     "text": [
      "Input shape: torch.Size([30, 512, 52]) [seq, batch, feats]\n",
      "Target shape: torch.Size([3, 30, 512])  [rotor, seq, batch]\n",
      "Mask shape: torch.Size([512, 30])  [batch, seq]\n",
      "Output shape: torch.Size([3, 30, 512, 26])  [rotor, seq, batch, feats]\n",
      "Acc: 0.9989583492279053\n"
     ]
    }
   ],
   "source": [
    "dataset = Enigma_simulate_cp_2_k_limited(args=args)\n",
    "dataloader = DataLoader(\n",
    "        dataset=dataset,\n",
    "        batch_size=512,\n",
    "        collate_fn=dataset.collate_fn_padding,\n",
    "        shuffle=True\n",
    "    )\n",
    "\n",
    "for inputs, targets, masks in dataloader:\n",
    "    inputs, targets, masks = inputs.to('cuda'), targets.to('cuda'), masks.to('cuda')\n",
    "\n",
    "\n",
    "    outputs = model(inputs, masks)\n",
    "\n",
    "    print(f\"Input shape: {inputs.shape} {'[seq, batch, feats]'}\\n\"\n",
    "          f\"Target shape: {targets.shape}  {'[rotor, seq, batch]'}\\n\"\n",
    "          f\"Mask shape: {masks.shape}  {'[batch, seq]'}\\n\"\n",
    "          f\"Output shape: {outputs.shape}  {'[rotor, seq, batch, feats]'}\")\n",
    "    break\n",
    "\n",
    "true_positive = 0\n",
    "samples = 0\n",
    "\n",
    "outputs_indices = torch.argmax(outputs, dim=-1) # -> [rotor, seq, batch]\n",
    "for rotor in range(outputs_indices.shape[0]):\n",
    "    mask = outputs_indices[rotor][~masks.T] == targets[rotor][~masks.T]\n",
    "    true_positive += mask.sum()\n",
    "    samples += math.prod(mask.shape)\n",
    "\n",
    "print(f\"Acc: {true_positive / samples}\")"
   ]
  },
  {
   "cell_type": "code",
   "execution_count": 4,
   "metadata": {
    "pycharm": {
     "name": "#%%\n"
    }
   },
   "outputs": [
    {
     "name": "stdout",
     "output_type": "stream",
     "text": [
      "Prediction: AES\n"
     ]
    }
   ],
   "source": [
    "# Make prediction based on user's inputs\n",
    "from dataset import cipher_plain_text_2_tensor\n",
    "inputs, masks = cipher_plain_text_2_tensor('VMPDTAJYTXDZNEFOSOTPJOYSMO', 'WEARETHECHAMPIONANDTHEBEST') # Predict on usr inputs\n",
    "inputs, masks = inputs.to('cuda'), masks.to('cuda')\n",
    "\n",
    "\n",
    "# Make prediction\n",
    "with torch.no_grad():\n",
    "    outputs = model(inputs, masks).argmax(dim=-1).squeeze(-1) # -> shape [rotor, seq]\n",
    "\n",
    "# print the prediction at the first postion, which is the initial states\n",
    "print(f\"Prediction: {chr(ord('A') + outputs[0, 0])}\"\n",
    "      f\"{chr(ord('A') + outputs[1, 0])}\"\n",
    "      f\"{chr(ord('A') + outputs[2, 0])}\")"
   ]
  },
  {
   "cell_type": "code",
   "execution_count": 5,
   "metadata": {
    "pycharm": {
     "name": "#%%\n"
    }
   },
   "outputs": [
    {
     "name": "stderr",
     "output_type": "stream",
     "text": [
      "Length: 5: 100%|█████████████████████████████████████████████| 35/35 [00:04<00:00,  7.10it/s, Acc: 0.10465407371520996]\n",
      "Length: 6: 100%|█████████████████████████████████████████████| 35/35 [00:06<00:00,  5.63it/s, Acc: 0.15196384489536285]\n",
      "Length: 7: 100%|█████████████████████████████████████████████| 35/35 [00:07<00:00,  4.99it/s, Acc: 0.22513654828071594]\n",
      "Length: 8: 100%|██████████████████████████████████████████████| 35/35 [00:07<00:00,  4.86it/s, Acc: 0.3278891444206238]\n",
      "Length: 9: 100%|█████████████████████████████████████████████| 35/35 [00:07<00:00,  4.53it/s, Acc: 0.45147421956062317]\n",
      "Length: 10: 100%|█████████████████████████████████████████████| 35/35 [00:07<00:00,  4.41it/s, Acc: 0.5769249796867371]\n",
      "Length: 11: 100%|█████████████████████████████████████████████| 35/35 [00:08<00:00,  4.34it/s, Acc: 0.7074393630027771]\n",
      "Length: 12: 100%|█████████████████████████████████████████████| 35/35 [00:08<00:00,  4.35it/s, Acc: 0.8238672614097595]\n",
      "Length: 13: 100%|█████████████████████████████████████████████| 35/35 [00:08<00:00,  4.04it/s, Acc: 0.8951330184936523]\n",
      "Length: 14: 100%|█████████████████████████████████████████████| 35/35 [00:08<00:00,  4.01it/s, Acc: 0.9370014667510986]\n",
      "Length: 15: 100%|█████████████████████████████████████████████| 35/35 [00:08<00:00,  3.90it/s, Acc: 0.9613621234893799]\n",
      "Length: 16: 100%|█████████████████████████████████████████████| 35/35 [00:09<00:00,  3.81it/s, Acc: 0.9704006314277649]\n",
      "Length: 17: 100%|█████████████████████████████████████████████| 35/35 [00:09<00:00,  3.75it/s, Acc: 0.9761193990707397]\n",
      "Length: 18: 100%|█████████████████████████████████████████████| 35/35 [00:09<00:00,  3.68it/s, Acc: 0.9804394245147705]\n",
      "Length: 19: 100%|█████████████████████████████████████████████| 35/35 [00:09<00:00,  3.68it/s, Acc: 0.9838011860847473]\n",
      "Length: 20: 100%|█████████████████████████████████████████████| 35/35 [00:09<00:00,  3.55it/s, Acc: 0.9840995073318481]\n",
      "Length: 21: 100%|█████████████████████████████████████████████| 35/35 [00:10<00:00,  3.50it/s, Acc: 0.9867631793022156]\n",
      "Length: 22: 100%|█████████████████████████████████████████████| 35/35 [00:10<00:00,  3.43it/s, Acc: 0.9906130433082581]\n",
      "Length: 23: 100%|█████████████████████████████████████████████| 35/35 [00:10<00:00,  3.33it/s, Acc: 0.9944427609443665]\n",
      "Length: 24: 100%|█████████████████████████████████████████████| 35/35 [00:10<00:00,  3.26it/s, Acc: 0.9960200190544128]\n",
      "Length: 25: 100%|█████████████████████████████████████████████| 35/35 [00:10<00:00,  3.24it/s, Acc: 0.9975113868713379]\n",
      "Length: 26: 100%|██████████████████████████████████████████████| 35/35 [00:11<00:00,  3.09it/s, Acc: 0.997981607913971]\n",
      "Length: 27: 100%|█████████████████████████████████████████████| 35/35 [00:12<00:00,  2.77it/s, Acc: 0.9982263445854187]\n",
      "Length: 28: 100%|█████████████████████████████████████████████| 35/35 [00:13<00:00,  2.65it/s, Acc: 0.9986301064491272]\n",
      "Length: 29: 100%|█████████████████████████████████████████████| 35/35 [00:11<00:00,  2.96it/s, Acc: 0.9988031983375549]\n",
      "Length: 30: 100%|█████████████████████████████████████████████| 35/35 [00:12<00:00,  2.86it/s, Acc: 0.9989702105522156]\n",
      "Length: 31: 100%|█████████████████████████████████████████████| 35/35 [00:12<00:00,  2.84it/s, Acc: 0.9990349411964417]\n",
      "Length: 32: 100%|█████████████████████████████████████████████| 35/35 [00:12<00:00,  2.79it/s, Acc: 0.9991317987442017]\n",
      "Length: 33: 100%|█████████████████████████████████████████████| 35/35 [00:12<00:00,  2.70it/s, Acc: 0.9991689324378967]\n",
      "Length: 34: 100%|█████████████████████████████████████████████| 35/35 [00:13<00:00,  2.68it/s, Acc: 0.9991738796234131]\n",
      "Length: 35: 100%|█████████████████████████████████████████████| 35/35 [00:13<00:00,  2.60it/s, Acc: 0.9992221593856812]\n",
      "Length: 36: 100%|█████████████████████████████████████████████| 35/35 [00:13<00:00,  2.56it/s, Acc: 0.9992682337760925]\n",
      "Length: 37: 100%|█████████████████████████████████████████████| 35/35 [00:14<00:00,  2.50it/s, Acc: 0.9992793798446655]\n",
      "Length: 38: 100%|█████████████████████████████████████████████| 35/35 [00:14<00:00,  2.43it/s, Acc: 0.9992972612380981]\n",
      "Length: 39: 100%|█████████████████████████████████████████████| 35/35 [00:16<00:00,  2.18it/s, Acc: 0.9993284940719604]\n",
      "Length: 40: 100%|█████████████████████████████████████████████| 35/35 [00:14<00:00,  2.38it/s, Acc: 0.9993407130241394]\n",
      "Length: 41: 100%|█████████████████████████████████████████████| 35/35 [00:14<00:00,  2.34it/s, Acc: 0.9993635416030884]\n",
      "Length: 42: 100%|█████████████████████████████████████████████| 35/35 [00:15<00:00,  2.31it/s, Acc: 0.9993793368339539]\n",
      "Length: 43: 100%|█████████████████████████████████████████████| 35/35 [00:15<00:00,  2.23it/s, Acc: 0.9993886947631836]\n",
      "Length: 44: 100%|█████████████████████████████████████████████| 35/35 [00:15<00:00,  2.20it/s, Acc: 0.9994109869003296]\n",
      "Length: 45: 100%|█████████████████████████████████████████████| 35/35 [00:16<00:00,  2.15it/s, Acc: 0.9994173645973206]\n",
      "Length: 46: 100%|█████████████████████████████████████████████| 35/35 [00:16<00:00,  2.15it/s, Acc: 0.9994229674339294]\n",
      "Length: 47: 100%|█████████████████████████████████████████████| 35/35 [00:18<00:00,  1.93it/s, Acc: 0.9971554279327393]\n",
      "Length: 48: 100%|█████████████████████████████████████████████| 35/35 [00:19<00:00,  1.79it/s, Acc: 0.9889475703239441]\n",
      "Length: 49: 100%|█████████████████████████████████████████████| 35/35 [00:17<00:00,  2.02it/s, Acc: 0.9778007864952087]\n",
      "Length: 50: 100%|█████████████████████████████████████████████| 35/35 [00:17<00:00,  1.98it/s, Acc: 0.9667965769767761]\n"
     ]
    }
   ],
   "source": [
    "# Testint accuracy in different length\n",
    "testing_args = args\n",
    "results = {}\n",
    "\n",
    "\n",
    "for length in range(5, 51):\n",
    "    testing_args['SEQ_LENGTH'] = [length, length]\n",
    "    dataset = Enigma_simulate_cp_2_k_limited(args=testing_args, mode='test')\n",
    "    dataloader = DataLoader(\n",
    "        dataset=dataset,\n",
    "        batch_size=1024,\n",
    "        collate_fn=dataset.collate_fn_padding,\n",
    "        shuffle=False,\n",
    "        drop_last=False\n",
    "    )\n",
    "\n",
    "    # Tracking\n",
    "    true_positive = 0\n",
    "    samples = 0\n",
    "\n",
    "    bar = tqdm(dataloader, leave=True)\n",
    "    bar.set_description_str(f\"Length: {length}\")\n",
    "\n",
    "    for inputs, targets, masks in bar:\n",
    "        inputs, targets, masks = inputs.to('cuda'), targets.to('cuda'), masks.to('cuda')\n",
    "\n",
    "        # Making prediction\n",
    "        # with torch.cuda.amp.autocast():\n",
    "        with torch.no_grad():\n",
    "            outputs = model(inputs, masks)\n",
    "\n",
    "            # Compute accuracy\n",
    "            outputs_indices = torch.argmax(outputs, dim=-1) # -> [rotor, seq, batch]\n",
    "            for rotor in range(outputs_indices.shape[0]):\n",
    "                mask = outputs_indices[rotor][~masks.T] == targets[rotor][~masks.T]\n",
    "                true_positive += mask.sum()\n",
    "                samples += math.prod(mask.shape)\n",
    "\n",
    "        # Set bar's postfix\n",
    "        bar.set_postfix_str(f\"Acc: {(true_positive / samples).item()}\")\n",
    "\n",
    "    # Output and record the result\n",
    "    results[length] = (true_positive / samples).item()"
   ]
  },
  {
   "cell_type": "markdown",
   "metadata": {
    "pycharm": {
     "name": "#%% md\n"
    }
   },
   "source": [
    "Ploting the results"
   ]
  },
  {
   "cell_type": "code",
   "execution_count": 8,
   "metadata": {
    "pycharm": {
     "name": "#%%\n"
    }
   },
   "outputs": [
    {
     "name": "stdout",
     "output_type": "stream",
     "text": [
      "[ 5  6  7  8  9 10 11 12 13 14 15 16 17 18 19 20 21 22 23 24 25 26 27 28\n",
      " 29 30 31 32 33 34 35 36 37 38 39 40 41 42 43 44 45 46 47 48 49 50] [0.10465407 0.15196384 0.22513655 0.32788914 0.45147422 0.57692498\n",
      " 0.70743936 0.82386726 0.89513302 0.93700147 0.96136212 0.97040063\n",
      " 0.9761194  0.98043942 0.98380119 0.98409951 0.98676318 0.99061304\n",
      " 0.99444276 0.99602002 0.99751139 0.99798161 0.99822634 0.99863011\n",
      " 0.9988032  0.99897021 0.99903494 0.9991318  0.99916893 0.99917388\n",
      " 0.99922216 0.99926823 0.99927938 0.99929726 0.99932849 0.99934071\n",
      " 0.99936354 0.99937934 0.99938869 0.99941099 0.99941736 0.99942297\n",
      " 0.99715543 0.98894757 0.97780079 0.96679658]\n"
     ]
    },
    {
     "data": {
      "image/png": "[encoded data removed]",
      "text/plain": [
       "<Figure size 960x800 with 1 Axes>"
      ]
     },
     "metadata": {},
     "output_type": "display_data"
    }
   ],
   "source": [
    "import matplotlib.pyplot as plt\n",
    "import numpy as np\n",
    "\n",
    "\n",
    "x = list(results.keys())\n",
    "y = list(results.values())\n",
    "\n",
    "x, y = np.array(x), np.array(y)\n",
    "print(x, y)\n",
    "\n",
    "fig, ax = plt.subplots(figsize=(12, 10), dpi=80)\n",
    "ax.bar(x,height=y)\n",
    "plt.title('Seq5-45-large', fontsize=15)\n",
    "ax.set_ylabel('Acc', fontsize=15)\n",
    "ax.set_xlabel('Length', fontsize=15)\n",
    "plt.show()\n",
    "# ax.plot(bins, y, '--')"
   ]
  },
  {
   "cell_type": "code",
   "execution_count": 7,
   "metadata": {
    "pycharm": {
     "name": "#%%\n"
    }
   },
   "outputs": [
    {
     "data": {
      "text/plain": [
       "<Figure size 640x480 with 0 Axes>"
      ]
     },
     "metadata": {},
     "output_type": "display_data"
    }
   ],
   "source": [
    "plt.savefig('Seq5-45')"
   ]
  }
 ],
 "metadata": {
  "kernelspec": {
   "display_name": "Python 3 (ipykernel)",
   "language": "python",
   "name": "python3"
  },
  "language_info": {
   "codemirror_mode": {
    "name": "ipython",
    "version": 3
   },
   "file_extension": ".py",
   "mimetype": "text/x-python",
   "name": "python",
   "nbconvert_exporter": "python",
   "pygments_lexer": "ipython3",
   "version": "3.9.16"
  }
 },
 "nbformat": 4,
 "nbformat_minor": 1
}