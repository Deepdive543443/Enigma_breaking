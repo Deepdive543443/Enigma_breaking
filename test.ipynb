{
 "cells": [
  {
   "cell_type": "code",
   "execution_count": 1,
   "metadata": {},
   "outputs": [],
   "source": [
    "import torch\n",
    "import numpy as np\n",
    "from model import cp_2_k_mask, cp_2_k_onnx\n",
    "from config import args\n",
    "from dataset import Enigma_simulate_c_2_p, Enigma_simulate_cp_2_k_limited, Enigma_simulate_cp_2_k\n",
    "from torch.utils.data import DataLoader\n",
    "import math\n",
    "from torchsummary import summary\n",
    "from tqdm import tqdm"
   ]
  },
  {
   "cell_type": "markdown",
   "metadata": {
    "pycharm": {
     "name": "#%% md\n"
    }
   },
   "source": [
    "Copying the compiled weight to regular models"
   ]
  },
  {
   "cell_type": "code",
   "execution_count": 2,
   "metadata": {},
   "outputs": [
    {
     "name": "stdout",
     "output_type": "stream",
     "text": [
      "Parameters: 27408974\n"
     ]
    },
    {
     "data": {
      "text/plain": "cp_2_k_mask(\n  (networks): ModuleList(\n    (0): RNN_encoder(\n      (enc): LSTM(512, 512, num_layers=2, dropout=0.2, bidirectional=True)\n      (dropout): Dropout(p=0.2, inplace=False)\n    )\n    (1): TransformerEncoder(\n      (layers): ModuleList(\n        (0): TransformerEncoderLayer(\n          (self_attn): MultiheadAttention(\n            (out_proj): NonDynamicallyQuantizableLinear(in_features=1024, out_features=1024, bias=True)\n          )\n          (linear1): Linear(in_features=1024, out_features=2048, bias=True)\n          (dropout): Dropout(p=0.2, inplace=False)\n          (linear2): Linear(in_features=2048, out_features=1024, bias=True)\n          (norm1): LayerNorm((1024,), eps=1e-05, elementwise_affine=True)\n          (norm2): LayerNorm((1024,), eps=1e-05, elementwise_affine=True)\n          (dropout1): Dropout(p=0.2, inplace=False)\n          (dropout2): Dropout(p=0.2, inplace=False)\n        )\n        (1): TransformerEncoderLayer(\n          (self_attn): MultiheadAttention(\n            (out_proj): NonDynamicallyQuantizableLinear(in_features=1024, out_features=1024, bias=True)\n          )\n          (linear1): Linear(in_features=1024, out_features=2048, bias=True)\n          (dropout): Dropout(p=0.2, inplace=False)\n          (linear2): Linear(in_features=2048, out_features=1024, bias=True)\n          (norm1): LayerNorm((1024,), eps=1e-05, elementwise_affine=True)\n          (norm2): LayerNorm((1024,), eps=1e-05, elementwise_affine=True)\n          (dropout1): Dropout(p=0.2, inplace=False)\n          (dropout2): Dropout(p=0.2, inplace=False)\n        )\n      )\n    )\n  )\n  (linear_projectors): Linear(in_features=1024, out_features=78, bias=True)\n  (emb): Linear(in_features=52, out_features=512, bias=True)\n  (dropout): Dropout(p=0.2, inplace=False)\n)"
     },
     "execution_count": 2,
     "metadata": {},
     "output_type": "execute_result"
    }
   ],
   "source": [
    "# Load trained model's weights and config\n",
    "ckpt = torch.load('CP2K_RNN_ENC_ckpt.pt')\n",
    "ckpt_args = ckpt['args']\n",
    "\n",
    "# Initialize new model by configs\n",
    "model = cp_2_k_mask(args=ckpt_args, out_channels=26)\n",
    "model.to('cuda')\n",
    "model.eval()\n",
    "\n",
    "# Load weights, calculate the number of parameters\n",
    "weights = []\n",
    "num_param = 0\n",
    "for k, v in ckpt['weights'].items():\n",
    "    weights.append(v)\n",
    "    num_param += np.prod(v.shape)\n",
    "print(f\"Parameters: {num_param}\")\n",
    "\n",
    "# Copying weights from compile model to new model\n",
    "for idx, (k, v) in enumerate(model.state_dict().items()):\n",
    "    # We have to copying like this, I am so confused\n",
    "    v *= 0\n",
    "    v += weights[idx].detach()\n",
    "\n",
    "# Set the model to evaluate mode\n",
    "model.eval()"
   ]
  },
  {
   "cell_type": "markdown",
   "metadata": {
    "pycharm": {
     "name": "#%% md\n"
    }
   },
   "source": [
    "Running a mini batch of examples"
   ]
  },
  {
   "cell_type": "code",
   "execution_count": 3,
   "metadata": {},
   "outputs": [
    {
     "name": "stdout",
     "output_type": "stream",
     "text": [
      "Input shape: torch.Size([30, 512, 52]) [seq, batch, feats]\n",
      "Target shape: torch.Size([3, 30, 512])  [rotor, seq, batch]\n",
      "Mask shape: torch.Size([512, 30])  [batch, seq]\n",
      "Output shape: torch.Size([3, 30, 512, 26])  [rotor, seq, batch, feats]\n",
      "Acc: 0.9987196326255798\n"
     ]
    }
   ],
   "source": [
    "dataset = Enigma_simulate_cp_2_k_limited(args=args)\n",
    "dataloader = DataLoader(\n",
    "        dataset=dataset,\n",
    "        batch_size=512,\n",
    "        collate_fn=dataset.collate_fn_padding,\n",
    "        shuffle=True\n",
    "    )\n",
    "\n",
    "data_iter = iter(dataloader)\n",
    "inputs, targets, masks = next(data_iter)\n",
    "inputs, targets, masks = inputs.to('cuda'), targets.to('cuda'), masks.to('cuda')\n",
    "\n",
    "outputs = model(inputs, masks)\n",
    "\n",
    "print(f\"Input shape: {inputs.shape} {'[seq, batch, feats]'}\\n\"\n",
    "          f\"Target shape: {targets.shape}  {'[rotor, seq, batch]'}\\n\"\n",
    "          f\"Mask shape: {masks.shape}  {'[batch, seq]'}\\n\"\n",
    "          f\"Output shape: {outputs.shape}  {'[rotor, seq, batch, feats]'}\")\n",
    "\n",
    "true_positive = 0\n",
    "samples = 0\n",
    "\n",
    "outputs_indices = torch.argmax(outputs, dim=-1) # -> [rotor, seq, batch]\n",
    "for rotor in range(outputs_indices.shape[0]):\n",
    "    mask = outputs_indices[rotor][~masks.T] == targets[rotor][~masks.T]\n",
    "    true_positive += mask.sum()\n",
    "    samples += math.prod(mask.shape)\n",
    "\n",
    "print(f\"Acc: {true_positive / samples}\")"
   ]
  },
  {
   "cell_type": "code",
   "execution_count": 4,
   "metadata": {
    "pycharm": {
     "name": "#%%\n"
    }
   },
   "outputs": [
    {
     "name": "stdout",
     "output_type": "stream",
     "text": [
      "Prediction: AES\n"
     ]
    }
   ],
   "source": [
    "# Make prediction based on user's inputs\n",
    "from dataset import cipher_plain_text_2_tensor\n",
    "inputs, masks = cipher_plain_text_2_tensor('VMPDTAJYTXDZNEFOSOTPJOYSMO', 'WEARETHECHAMPIONANDTHEBEST') # Predict on usr inputs\n",
    "inputs, masks = inputs.to('cuda'), masks.to('cuda')\n",
    "\n",
    "\n",
    "# Make prediction\n",
    "with torch.no_grad():\n",
    "    outputs = model(inputs, masks).argmax(dim=-1).squeeze(-1) # -> shape [rotor, seq]\n",
    "\n",
    "# print the prediction at the first postion, which is the initial states\n",
    "print(f\"Prediction: {chr(ord('A') + outputs[0, 0])}\"\n",
    "      f\"{chr(ord('A') + outputs[1, 0])}\"\n",
    "      f\"{chr(ord('A') + outputs[2, 0])}\")"
   ]
  },
  {
   "cell_type": "code",
   "execution_count": 5,
   "outputs": [
    {
     "name": "stdout",
     "output_type": "stream",
     "text": [
      "Parameters: 27408974\n",
      "Input shape: torch.Size([30, 1, 52]) [seq, batch, feats]\n",
      "Target shape: torch.Size([3, 30, 1])  [rotor, seq, batch]\n",
      "Mask shape: torch.Size([1, 30])  [batch, seq]\n",
      "Output shape: torch.Size([3, 30, 1, 26])  [rotor, seq, batch, feats]\n",
      "Acc: 1.0\n"
     ]
    },
    {
     "name": "stderr",
     "output_type": "stream",
     "text": [
      "D:\\Anaconda\\envs\\pytorch\\lib\\site-packages\\torch\\onnx\\symbolic_opset9.py:2188: UserWarning: Exporting a model to ONNX with a batch_size other than 1, with a variable length with LSTM can cause an error when running the ONNX model with a different batch size. Make sure to save the model with a batch size of 1, or define the initial states (h0/c0) as inputs of the model. \n",
      "  warnings.warn(\"Exporting a model to ONNX with a batch_size other than 1, \" +\n"
     ]
    },
    {
     "name": "stdout",
     "output_type": "stream",
     "text": [
      "(3, 30)\n",
      "Prediction: AES\n"
     ]
    }
   ],
   "source": [
    "# Transfer to onnx\n",
    "import onnx, onnxruntime\n",
    "onnx_model = cp_2_k_onnx(args=ckpt_args, out_channels=26)\n",
    "onnx_model.to('cuda')\n",
    "onnx_model.eval()\n",
    "\n",
    "# Load weights, calculate the number of parameters\n",
    "weights = []\n",
    "num_param = 0\n",
    "for k, v in ckpt['weights'].items():\n",
    "    weights.append(v)\n",
    "    num_param += np.prod(v.shape)\n",
    "print(f\"Parameters: {num_param}\")\n",
    "\n",
    "# Copying weights from compile model to new model\n",
    "for idx, (k, v) in enumerate(onnx_model.state_dict().items()):\n",
    "    # We have to copying like this, I am so confused\n",
    "    v *= 0\n",
    "    v += weights[idx].detach()\n",
    "\n",
    "# Testing the pre-export model in batch size 1\n",
    "dataloader = DataLoader(\n",
    "        dataset=dataset,\n",
    "        batch_size=1,\n",
    "        collate_fn=dataset.collate_fn_padding,\n",
    "        shuffle=True\n",
    "    )\n",
    "\n",
    "# Get samples for dataset\n",
    "data_iter = iter(dataloader)\n",
    "inputs, targets, masks = next(data_iter)\n",
    "inputs, targets, masks = inputs.to('cuda'), targets.to('cuda'), masks.to('cuda')\n",
    "\n",
    "outputs = onnx_model(inputs)\n",
    "\n",
    "print(f\"Input shape: {inputs.shape} {'[seq, batch, feats]'}\\n\"\n",
    "      f\"Target shape: {targets.shape}  {'[rotor, seq, batch]'}\\n\"\n",
    "      f\"Mask shape: {masks.shape}  {'[batch, seq]'}\\n\"\n",
    "      f\"Output shape: {outputs.shape}  {'[rotor, seq, batch, feats]'}\")\n",
    "\n",
    "\n",
    "true_positive = 0\n",
    "samples = 0\n",
    "\n",
    "outputs_indices = torch.argmax(outputs, dim=-1) # -> [rotor, seq, batch]\n",
    "for rotor in range(outputs_indices.shape[0]):\n",
    "    mask = outputs_indices[rotor][~masks.T] == targets[rotor][~masks.T]\n",
    "    true_positive += mask.sum()\n",
    "    samples += math.prod(mask.shape)\n",
    "\n",
    "print(f\"Acc: {true_positive / samples}\")\n",
    "\n",
    "# Export onnx model\n",
    "torch.onnx.export(\n",
    "    onnx_model,\n",
    "    args=inputs,\n",
    "    f=\"seq5-45-large.onnx\",\n",
    "    input_names=[\"input_1\"],\n",
    "    output_names=[\"output1\"]\n",
    ")\n",
    "\n",
    "# Load and verify onnx model\n",
    "ort_session = onnxruntime.InferenceSession(\"seq5-45-large.onnx\")\n",
    "inputs, _ = cipher_plain_text_2_tensor('VMPDTAJYTXDZNEFOSOTPJOYSMOEBNX', 'WEARETHECHAMPIONANDTHEBESTPLAY')\n",
    "outputs = ort_session.run(\n",
    "    None,\n",
    "    {\"input_1\": np.array(inputs)},\n",
    ")\n",
    "\n",
    "outputs = outputs[0].argmax(axis=-1).reshape(outputs[0].shape[0], outputs[0].shape[1])\n",
    "print(outputs.shape)\n",
    "print(f\"Prediction: {chr(ord('A') + outputs[0, 0])}\"\n",
    "      f\"{chr(ord('A') + outputs[1, 0])}\"\n",
    "      f\"{chr(ord('A') + outputs[2, 0])}\")\n"
   ],
   "metadata": {
    "collapsed": false
   }
  },
  {
   "cell_type": "code",
   "execution_count": null,
   "metadata": {
    "pycharm": {
     "name": "#%%\n"
    }
   },
   "outputs": [
    {
     "name": "stderr",
     "output_type": "stream",
     "text": [
      "Length: 5: 100%|██████████| 35/35 [00:13<00:00,  2.65it/s, Acc: 0.07689083367586136]\n",
      "Length: 6: 100%|██████████| 35/35 [00:14<00:00,  2.44it/s, Acc: 0.10879576951265335]\n",
      "Length: 7: 100%|██████████| 35/35 [00:15<00:00,  2.22it/s, Acc: 0.1582677662372589] \n",
      "Length: 8: 100%|██████████| 35/35 [00:17<00:00,  1.96it/s, Acc: 0.21822845935821533]\n",
      "Length: 9: 100%|██████████| 35/35 [00:19<00:00,  1.82it/s, Acc: 0.29703488945961]   \n",
      "Length: 10: 100%|██████████| 35/35 [00:20<00:00,  1.72it/s, Acc: 0.3664599359035492] \n",
      "Length: 11: 100%|██████████| 35/35 [00:24<00:00,  1.45it/s, Acc: 0.4284078776836395] \n",
      "Length: 12: 100%|██████████| 35/35 [00:26<00:00,  1.30it/s, Acc: 0.4914126694202423] \n",
      "Length: 13: 100%|██████████| 35/35 [00:27<00:00,  1.27it/s, Acc: 0.5462774038314819]\n",
      "Length: 14: 100%|██████████| 35/35 [00:32<00:00,  1.08it/s, Acc: 0.592044472694397] \n",
      "Length: 15: 100%|██████████| 35/35 [00:33<00:00,  1.04it/s, Acc: 0.6355219483375549]\n",
      "Length: 16: 100%|██████████| 35/35 [00:36<00:00,  1.04s/it, Acc: 0.6806879639625549]\n",
      "Length: 17: 100%|██████████| 35/35 [00:40<00:00,  1.17s/it, Acc: 0.723574697971344] \n",
      "Length: 18: 100%|██████████| 35/35 [00:42<00:00,  1.23s/it, Acc: 0.7696353197097778]\n",
      "Length: 19: 100%|██████████| 35/35 [00:43<00:00,  1.24s/it, Acc: 0.8092808723449707]\n",
      "Length: 20: 100%|██████████| 35/35 [00:50<00:00,  1.44s/it, Acc: 0.8507998585700989]\n",
      "Length: 21: 100%|██████████| 35/35 [00:48<00:00,  1.40s/it, Acc: 0.8923514485359192]\n",
      "Length: 22: 100%|██████████| 35/35 [00:53<00:00,  1.52s/it, Acc: 0.9369215369224548]\n",
      "Length: 23: 100%|██████████| 35/35 [00:57<00:00,  1.63s/it, Acc: 0.9743251204490662]\n",
      "Length: 24: 100%|██████████| 35/35 [01:04<00:00,  1.84s/it, Acc: 0.9899934530258179]\n",
      "Length: 25:  43%|████▎     | 15/35 [00:31<00:41,  2.06s/it, Acc: 0.9965651035308838]"
     ]
    }
   ],
   "source": [
    "# Testint accuracy in different length\n",
    "testing_args = args\n",
    "results = {}\n",
    "\n",
    "\n",
    "for length in range(5, 51):\n",
    "    testing_args['SEQ_LENGTH'] = [length, length]\n",
    "    dataset = Enigma_simulate_cp_2_k_limited(args=testing_args, mode='test')\n",
    "    dataloader = DataLoader(\n",
    "        dataset=dataset,\n",
    "        batch_size=1024,\n",
    "        collate_fn=dataset.collate_fn_padding,\n",
    "        shuffle=False,\n",
    "        drop_last=False\n",
    "    )\n",
    "\n",
    "    # Tracking\n",
    "    true_positive = 0\n",
    "    samples = 0\n",
    "\n",
    "    bar = tqdm(dataloader, leave=True)\n",
    "    bar.set_description_str(f\"Length: {length}\")\n",
    "\n",
    "    for inputs, targets, masks in bar:\n",
    "        inputs, targets, masks = inputs.to('cuda'), targets.to('cuda'), masks.to('cuda')\n",
    "\n",
    "        # Making prediction\n",
    "        # with torch.cuda.amp.autocast():\n",
    "        with torch.no_grad():\n",
    "            outputs = model(inputs, masks)\n",
    "\n",
    "            # Compute accuracy\n",
    "            outputs_indices = torch.argmax(outputs, dim=-1) # -> [rotor, seq, batch]\n",
    "            for rotor in range(outputs_indices.shape[0]):\n",
    "                mask = outputs_indices[rotor][~masks.T] == targets[rotor][~masks.T]\n",
    "                true_positive += mask.sum()\n",
    "                samples += math.prod(mask.shape)\n",
    "\n",
    "        # Set bar's postfix\n",
    "        bar.set_postfix_str(f\"Acc: {(true_positive / samples).item()}\")\n",
    "\n",
    "    # Output and record the result\n",
    "    results[length] = (true_positive / samples).item()"
   ]
  },
  {
   "cell_type": "markdown",
   "source": [],
   "metadata": {
    "collapsed": false
   }
  },
  {
   "cell_type": "markdown",
   "metadata": {
    "pycharm": {
     "name": "#%% md\n"
    }
   },
   "source": [
    "Ploting the results"
   ]
  },
  {
   "cell_type": "code",
   "execution_count": null,
   "metadata": {
    "pycharm": {
     "name": "#%%\n"
    }
   },
   "outputs": [],
   "source": [
    "import matplotlib.pyplot as plt\n",
    "import numpy as np\n",
    "\n",
    "\n",
    "x = list(results.keys())\n",
    "y = list(results.values())\n",
    "\n",
    "x, y = np.array(x), np.array(y)\n",
    "print(x, y)\n",
    "\n",
    "fig, ax = plt.subplots(figsize=(12, 10), dpi=80)\n",
    "ax.bar(x,height=y)\n",
    "plt.title('Seq5-45-large', fontsize=15)\n",
    "ax.set_ylabel('Acc', fontsize=15)\n",
    "ax.set_xlabel('Length', fontsize=15)\n",
    "plt.show()\n",
    "# ax.plot(bins, y, '--')"
   ]
  },
  {
   "cell_type": "code",
   "execution_count": null,
   "metadata": {
    "pycharm": {
     "name": "#%%\n"
    }
   },
   "outputs": [],
   "source": [
    "plt.savefig('Seq5-45')"
   ]
  }
 ],
 "metadata": {
  "kernelspec": {
   "display_name": "Python 3 (ipykernel)",
   "language": "python",
   "name": "python3"
  },
  "language_info": {
   "codemirror_mode": {
    "name": "ipython",
    "version": 3
   },
   "file_extension": ".py",
   "mimetype": "text/x-python",
   "name": "python",
   "nbconvert_exporter": "python",
   "pygments_lexer": "ipython3",
   "version": "3.9.16"
  }
 },
 "nbformat": 4,
 "nbformat_minor": 1
}
