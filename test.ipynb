{
 "cells": [
  {
   "cell_type": "code",
   "execution_count": 1,
   "metadata": {},
   "outputs": [],
   "source": [
    "import torch\n",
    "import numpy as np\n",
    "from model import cp_2_k_mask, cp_2_k_onnx\n",
    "from config import args\n",
    "from dataset import Enigma_simulate_c_2_p, Enigma_simulate_cp_2_k_limited, Enigma_simulate_cp_2_k\n",
    "from torch.utils.data import DataLoader\n",
    "import math\n",
    "from torchsummary import summary\n",
    "from tqdm import tqdm"
   ]
  },
  {
   "cell_type": "markdown",
   "metadata": {},
   "source": [
    "Copying the compiled weight to regular models"
   ]
  },
  {
   "cell_type": "code",
   "execution_count": 2,
   "metadata": {},
   "outputs": [
    {
     "name": "stdout",
     "output_type": "stream",
     "text": [
      "Parameters: 27408974\n"
     ]
    },
    {
     "data": {
      "text/plain": "cp_2_k_mask(\n  (networks): ModuleList(\n    (0): RNN_encoder(\n      (enc): LSTM(512, 512, num_layers=2, dropout=0.2, bidirectional=True)\n      (dropout): Dropout(p=0.2, inplace=False)\n    )\n    (1): TransformerEncoder(\n      (layers): ModuleList(\n        (0): TransformerEncoderLayer(\n          (self_attn): MultiheadAttention(\n            (out_proj): NonDynamicallyQuantizableLinear(in_features=1024, out_features=1024, bias=True)\n          )\n          (linear1): Linear(in_features=1024, out_features=2048, bias=True)\n          (dropout): Dropout(p=0.2, inplace=False)\n          (linear2): Linear(in_features=2048, out_features=1024, bias=True)\n          (norm1): LayerNorm((1024,), eps=1e-05, elementwise_affine=True)\n          (norm2): LayerNorm((1024,), eps=1e-05, elementwise_affine=True)\n          (dropout1): Dropout(p=0.2, inplace=False)\n          (dropout2): Dropout(p=0.2, inplace=False)\n        )\n        (1): TransformerEncoderLayer(\n          (self_attn): MultiheadAttention(\n            (out_proj): NonDynamicallyQuantizableLinear(in_features=1024, out_features=1024, bias=True)\n          )\n          (linear1): Linear(in_features=1024, out_features=2048, bias=True)\n          (dropout): Dropout(p=0.2, inplace=False)\n          (linear2): Linear(in_features=2048, out_features=1024, bias=True)\n          (norm1): LayerNorm((1024,), eps=1e-05, elementwise_affine=True)\n          (norm2): LayerNorm((1024,), eps=1e-05, elementwise_affine=True)\n          (dropout1): Dropout(p=0.2, inplace=False)\n          (dropout2): Dropout(p=0.2, inplace=False)\n        )\n      )\n    )\n  )\n  (linear_projectors): Linear(in_features=1024, out_features=78, bias=True)\n  (emb): Linear(in_features=52, out_features=512, bias=True)\n  (dropout): Dropout(p=0.2, inplace=False)\n)"
     },
     "execution_count": 2,
     "metadata": {},
     "output_type": "execute_result"
    }
   ],
   "source": [
    "# Load trained model's weights and config\n",
    "ckpt = torch.load('CP2K_RNN_ENC_ckpt.pt')\n",
    "ckpt_args = ckpt['args']\n",
    "\n",
    "# Initialize new model by configs\n",
    "model = cp_2_k_mask(args=ckpt_args, out_channels=26)\n",
    "model.to('cuda')\n",
    "model.eval()\n",
    "\n",
    "# Load weights, calculate the number of parameters\n",
    "weights = []\n",
    "num_param = 0\n",
    "for k, v in ckpt['weights'].items():\n",
    "    weights.append(v)\n",
    "    num_param += np.prod(v.shape)\n",
    "print(f\"Parameters: {num_param}\")\n",
    "\n",
    "# Copying weights from compile model to new model\n",
    "for idx, (k, v) in enumerate(model.state_dict().items()):\n",
    "    # We have to copying like this, I am so confused\n",
    "    v *= 0\n",
    "    v += weights[idx].detach()\n",
    "\n",
    "# Set the model to evaluate mode\n",
    "model.eval()"
   ]
  },
  {
   "cell_type": "markdown",
   "metadata": {},
   "source": [
    "Running a mini batch of examples"
   ]
  },
  {
   "cell_type": "code",
   "execution_count": 3,
   "metadata": {},
   "outputs": [
    {
     "name": "stdout",
     "output_type": "stream",
     "text": [
      "Input shape: torch.Size([30, 512, 52]) [seq, batch, feats]\n",
      "Target shape: torch.Size([3, 30, 512])  [rotor, seq, batch]\n",
      "Mask shape: torch.Size([512, 30])  [batch, seq]\n",
      "Output shape: torch.Size([3, 30, 512, 26])  [rotor, seq, batch, feats]\n",
      "Acc: 0.9992404580116272\n"
     ]
    }
   ],
   "source": [
    "dataset = Enigma_simulate_cp_2_k_limited(args=args)\n",
    "dataloader = DataLoader(\n",
    "        dataset=dataset,\n",
    "        batch_size=512,\n",
    "        collate_fn=dataset.collate_fn_padding,\n",
    "        shuffle=True\n",
    "    )\n",
    "\n",
    "data_iter = iter(dataloader)\n",
    "inputs, targets, masks = next(data_iter)\n",
    "inputs, targets, masks = inputs.to('cuda'), targets.to('cuda'), masks.to('cuda')\n",
    "\n",
    "outputs = model(inputs, masks)\n",
    "\n",
    "print(f\"Input shape: {inputs.shape} {'[seq, batch, feats]'}\\n\"\n",
    "          f\"Target shape: {targets.shape}  {'[rotor, seq, batch]'}\\n\"\n",
    "          f\"Mask shape: {masks.shape}  {'[batch, seq]'}\\n\"\n",
    "          f\"Output shape: {outputs.shape}  {'[rotor, seq, batch, feats]'}\")\n",
    "\n",
    "true_positive = 0\n",
    "samples = 0\n",
    "\n",
    "outputs_indices = torch.argmax(outputs, dim=-1) # -> [rotor, seq, batch]\n",
    "for rotor in range(outputs_indices.shape[0]):\n",
    "    mask = outputs_indices[rotor][~masks.T] == targets[rotor][~masks.T]\n",
    "    true_positive += mask.sum()\n",
    "    samples += math.prod(mask.shape)\n",
    "\n",
    "print(f\"Acc: {true_positive / samples}\")"
   ]
  },
  {
   "cell_type": "code",
   "execution_count": 4,
   "metadata": {},
   "outputs": [
    {
     "name": "stdout",
     "output_type": "stream",
     "text": [
      "Prediction: AES\n"
     ]
    }
   ],
   "source": [
    "# Make prediction based on user's inputs( Results should be \"AES\")\n",
    "from dataset import cipher_plain_text_2_tensor\n",
    "inputs, masks = cipher_plain_text_2_tensor('VMPDTAJYTXDZNEFOSOTPJOYSMO', 'WEARETHECHAMPIONANDTHEBEST') # Predict on usr inputs\n",
    "inputs, masks = inputs.to('cuda'), masks.to('cuda')\n",
    "\n",
    "\n",
    "# Make prediction\n",
    "with torch.no_grad():\n",
    "    outputs = model(inputs, masks).argmax(dim=-1).squeeze(-1) # -> shape [rotor, seq]\n",
    "\n",
    "# print the prediction at the first postion, which is the initial states\n",
    "print(f\"Prediction: {chr(ord('A') + outputs[0, 0])}\"\n",
    "      f\"{chr(ord('A') + outputs[1, 0])}\"\n",
    "      f\"{chr(ord('A') + outputs[2, 0])}\")"
   ]
  },
  {
   "cell_type": "code",
   "execution_count": 5,
   "outputs": [
    {
     "name": "stdout",
     "output_type": "stream",
     "text": [
      "Parameters: 27408974\n",
      "Input shape: torch.Size([30, 1, 52]) [seq, batch, feats]\n",
      "Target shape: torch.Size([3, 30, 1])  [rotor, seq, batch]\n",
      "Mask shape: torch.Size([1, 30])  [batch, seq]\n",
      "Output shape: torch.Size([3, 30, 1, 26])  [rotor, seq, batch, feats]\n",
      "Acc: 1.0\n"
     ]
    },
    {
     "name": "stderr",
     "output_type": "stream",
     "text": [
      "D:\\Anaconda\\envs\\pytorch\\lib\\site-packages\\torch\\onnx\\symbolic_opset9.py:2188: UserWarning: Exporting a model to ONNX with a batch_size other than 1, with a variable length with LSTM can cause an error when running the ONNX model with a different batch size. Make sure to save the model with a batch size of 1, or define the initial states (h0/c0) as inputs of the model. \n",
      "  warnings.warn(\"Exporting a model to ONNX with a batch_size other than 1, \" +\n"
     ]
    },
    {
     "name": "stdout",
     "output_type": "stream",
     "text": [
      "(3, 30)\n",
      "Onnx Prediction: AES\n"
     ]
    }
   ],
   "source": [
    "# Transfer to onnx\n",
    "import onnx, onnxruntime\n",
    "onnx_model = cp_2_k_onnx(args=ckpt_args, out_channels=26)\n",
    "onnx_model.to('cuda')\n",
    "onnx_model.eval()\n",
    "\n",
    "# Load weights, calculate the number of parameters\n",
    "weights = []\n",
    "num_param = 0\n",
    "for k, v in ckpt['weights'].items():\n",
    "    weights.append(v)\n",
    "    num_param += np.prod(v.shape)\n",
    "print(f\"Parameters: {num_param}\")\n",
    "\n",
    "# Copying weights from compile model to new model\n",
    "for idx, (k, v) in enumerate(onnx_model.state_dict().items()):\n",
    "    # We have to copying like this, I am so confused\n",
    "    v *= 0\n",
    "    v += weights[idx].detach()\n",
    "\n",
    "# Testing the pre-export model in batch size 1\n",
    "dataloader = DataLoader(\n",
    "        dataset=dataset,\n",
    "        batch_size=1,\n",
    "        collate_fn=dataset.collate_fn_padding,\n",
    "        shuffle=True\n",
    "    )\n",
    "\n",
    "# Get samples for dataset\n",
    "data_iter = iter(dataloader)\n",
    "inputs, targets, masks = next(data_iter)\n",
    "inputs, targets, masks = inputs.to('cuda'), targets.to('cuda'), masks.to('cuda')\n",
    "\n",
    "outputs = onnx_model(inputs)\n",
    "\n",
    "print(f\"Input shape: {inputs.shape} {'[seq, batch, feats]'}\\n\"\n",
    "      f\"Target shape: {targets.shape}  {'[rotor, seq, batch]'}\\n\"\n",
    "      f\"Mask shape: {masks.shape}  {'[batch, seq]'}\\n\"\n",
    "      f\"Output shape: {outputs.shape}  {'[rotor, seq, batch, feats]'}\")\n",
    "\n",
    "\n",
    "true_positive = 0\n",
    "samples = 0\n",
    "\n",
    "outputs_indices = torch.argmax(outputs, dim=-1) # -> [rotor, seq, batch]\n",
    "for rotor in range(outputs_indices.shape[0]):\n",
    "    mask = outputs_indices[rotor][~masks.T] == targets[rotor][~masks.T]\n",
    "    true_positive += mask.sum()\n",
    "    samples += math.prod(mask.shape)\n",
    "\n",
    "print(f\"Acc: {true_positive / samples}\")\n",
    "\n",
    "# Export onnx model\n",
    "torch.onnx.export(\n",
    "    onnx_model,\n",
    "    args=inputs,\n",
    "    f=\"seq5-45-large.onnx\",\n",
    "    input_names=[\"input_1\"],\n",
    "    output_names=[\"output1\"]\n",
    ")\n",
    "\n",
    "# Load and verify onnx model\n",
    "ort_session = onnxruntime.InferenceSession(\"seq5-45-large.onnx\")\n",
    "inputs, _ = cipher_plain_text_2_tensor('WEARETHECHAMPIONANDTHEBESTPLAY', 'VMPDTAJYTXDZNEFOSOTPJOYSMOEBNX')\n",
    "outputs = ort_session.run(\n",
    "    None,\n",
    "    {\"input_1\": np.array(inputs)},\n",
    ")\n",
    "\n",
    "outputs = outputs[0].argmax(axis=-1).reshape(outputs[0].shape[0], outputs[0].shape[1])\n",
    "print(outputs.shape)\n",
    "print(f\"Onnx Prediction: {chr(ord('A') + outputs[0, 0])}\"\n",
    "      f\"{chr(ord('A') + outputs[1, 0])}\"\n",
    "      f\"{chr(ord('A') + outputs[2, 0])}\")\n"
   ],
   "metadata": {
    "collapsed": false
   }
  },
  {
   "cell_type": "code",
   "execution_count": null,
   "metadata": {},
   "outputs": [
    {
     "name": "stderr",
     "output_type": "stream",
     "text": [
      "Length: 5: 100%|██████████| 35/35 [00:12<00:00,  2.87it/s, Acc: 0.12144970148801804]\n",
      "Length: 6: 100%|██████████| 35/35 [00:13<00:00,  2.57it/s, Acc: 0.1929999142885208] \n",
      "Length: 7: 100%|██████████| 35/35 [00:14<00:00,  2.40it/s, Acc: 0.3028290569782257] \n",
      "Length: 8: 100%|██████████| 35/35 [00:16<00:00,  2.09it/s, Acc: 0.44813477993011475]\n",
      "Length: 9: 100%|██████████| 35/35 [00:17<00:00,  2.03it/s, Acc: 0.5972833037376404]\n",
      "Length: 10: 100%|██████████| 35/35 [00:17<00:00,  1.98it/s, Acc: 0.725593626499176] \n",
      "Length: 11: 100%|██████████| 35/35 [00:21<00:00,  1.62it/s, Acc: 0.8123370409011841]\n",
      "Length: 12: 100%|██████████| 35/35 [00:22<00:00,  1.59it/s, Acc: 0.8774354457855225]\n",
      "Length: 13: 100%|██████████| 35/35 [00:23<00:00,  1.50it/s, Acc: 0.9182465672492981]\n",
      "Length: 14: 100%|██████████| 35/35 [00:25<00:00,  1.36it/s, Acc: 0.9436074495315552]\n",
      "Length: 15: 100%|██████████| 35/35 [00:27<00:00,  1.29it/s, Acc: 0.9645280838012695]\n",
      "Length: 16: 100%|██████████| 35/35 [00:28<00:00,  1.23it/s, Acc: 0.9777140617370605]\n",
      "Length: 17: 100%|██████████| 35/35 [00:33<00:00,  1.05it/s, Acc: 0.9854045510292053]\n",
      "Length: 18: 100%|██████████| 35/35 [00:33<00:00,  1.04it/s, Acc: 0.9898909330368042]\n",
      "Length: 19: 100%|██████████| 35/35 [00:36<00:00,  1.06s/it, Acc: 0.9930387735366821]\n",
      "Length: 20: 100%|██████████| 35/35 [00:44<00:00,  1.26s/it, Acc: 0.9948509335517883]\n",
      "Length: 21: 100%|██████████| 35/35 [00:41<00:00,  1.18s/it, Acc: 0.9959044456481934]\n",
      "Length: 22: 100%|██████████| 35/35 [00:44<00:00,  1.26s/it, Acc: 0.9969918131828308]\n",
      "Length: 23: 100%|██████████| 35/35 [00:47<00:00,  1.36s/it, Acc: 0.997660219669342] \n",
      "Length: 24: 100%|██████████| 35/35 [00:50<00:00,  1.43s/it, Acc: 0.9981860518455505]\n",
      "Length: 25: 100%|██████████| 35/35 [00:55<00:00,  1.57s/it, Acc: 0.9985002279281616]\n",
      "Length: 26: 100%|██████████| 35/35 [00:57<00:00,  1.65s/it, Acc: 0.9986246228218079]\n",
      "Length: 27: 100%|██████████| 35/35 [00:58<00:00,  1.67s/it, Acc: 0.9988768100738525]\n",
      "Length: 28: 100%|██████████| 35/35 [01:00<00:00,  1.71s/it, Acc: 0.9989182949066162]\n",
      "Length: 29: 100%|██████████| 35/35 [01:06<00:00,  1.89s/it, Acc: 0.9990043044090271]\n",
      "Length: 30: 100%|██████████| 35/35 [01:11<00:00,  2.04s/it, Acc: 0.9990596771240234]\n",
      "Length: 31: 100%|██████████| 35/35 [01:16<00:00,  2.18s/it, Acc: 0.9991025328636169]\n",
      "Length: 32: 100%|██████████| 35/35 [01:17<00:00,  2.20s/it, Acc: 0.9991540312767029]\n",
      "Length: 33: 100%|██████████| 35/35 [01:17<00:00,  2.20s/it, Acc: 0.9991996884346008]\n",
      "Length: 34: 100%|██████████| 35/35 [01:18<00:00,  2.23s/it, Acc: 0.9992308020591736]\n",
      "Length: 35: 100%|██████████| 35/35 [01:29<00:00,  2.56s/it, Acc: 0.9992427229881287]\n",
      "Length: 36: 100%|██████████| 35/35 [01:24<00:00,  2.40s/it, Acc: 0.9992753267288208]\n",
      "Length: 37: 100%|██████████| 35/35 [01:23<00:00,  2.38s/it, Acc: 0.9992937445640564]\n",
      "Length: 38: 100%|██████████| 35/35 [01:31<00:00,  2.63s/it, Acc: 0.9993142485618591]\n",
      "Length: 39: 100%|██████████| 35/35 [01:34<00:00,  2.70s/it, Acc: 0.9993245601654053]\n",
      "Length: 40: 100%|██████████| 35/35 [01:40<00:00,  2.87s/it, Acc: 0.9993501901626587]\n",
      "Length: 41: 100%|██████████| 35/35 [01:44<00:00,  2.99s/it, Acc: 0.9993570446968079]\n",
      "Length: 42: 100%|██████████| 35/35 [1:01:47<00:00, 105.94s/it, Acc: 0.9993730187416077]   \n",
      "Length: 43:  14%|█▍        | 5/35 [00:15<01:29,  2.98s/it, Acc: 0.9993458986282349]"
     ]
    }
   ],
   "source": [
    "# Testint accuracy in different length\n",
    "testing_args = args\n",
    "results = {}\n",
    "\n",
    "\n",
    "for length in range(5, 51):\n",
    "    testing_args['SEQ_LENGTH'] = [length, length]\n",
    "    dataset = Enigma_simulate_cp_2_k_limited(args=testing_args, mode='test')\n",
    "    dataloader = DataLoader(\n",
    "        dataset=dataset,\n",
    "        batch_size=1024,\n",
    "        collate_fn=dataset.collate_fn_padding,\n",
    "        shuffle=False,\n",
    "        drop_last=False\n",
    "    )\n",
    "\n",
    "    # Tracking\n",
    "    true_positive = 0\n",
    "    samples = 0\n",
    "\n",
    "    bar = tqdm(dataloader, leave=True)\n",
    "    bar.set_description_str(f\"Length: {length}\")\n",
    "\n",
    "    for inputs, targets, masks in bar:\n",
    "        inputs, targets, masks = inputs.to('cuda'), targets.to('cuda'), masks.to('cuda')\n",
    "\n",
    "        # Making prediction\n",
    "        # with torch.cuda.amp.autocast():\n",
    "        with torch.no_grad():\n",
    "            outputs = model(inputs, masks)\n",
    "\n",
    "            # Compute accuracy\n",
    "            outputs_indices = torch.argmax(outputs, dim=-1) # -> [rotor, seq, batch]\n",
    "            for rotor in range(outputs_indices.shape[0]):\n",
    "                mask = outputs_indices[rotor][~masks.T] == targets[rotor][~masks.T]\n",
    "                true_positive += mask.sum()\n",
    "                samples += math.prod(mask.shape)\n",
    "\n",
    "        # Set bar's postfix\n",
    "        bar.set_postfix_str(f\"Acc: {(true_positive / samples).item()}\")\n",
    "\n",
    "    # Output and record the result\n",
    "    results[length] = (true_positive / samples).item()"
   ]
  },
  {
   "cell_type": "markdown",
   "source": [],
   "metadata": {
    "collapsed": false
   }
  },
  {
   "cell_type": "markdown",
   "metadata": {},
   "source": [
    "Ploting the results"
   ]
  },
  {
   "cell_type": "code",
   "execution_count": null,
   "metadata": {},
   "outputs": [],
   "source": [
    "import matplotlib.pyplot as plt\n",
    "\n",
    "\n",
    "x = list(results.keys())\n",
    "y = list(results.values())\n",
    "\n",
    "x, y = np.array(x), np.array(y)\n",
    "print(x, y)\n",
    "\n",
    "fig, ax = plt.subplots(figsize=(12, 10), dpi=80)\n",
    "ax.bar(x,height=y)\n",
    "plt.title('Seq5-45-large', fontsize=15)\n",
    "ax.set_ylabel('Acc', fontsize=15)\n",
    "ax.set_xlabel('Length', fontsize=15)\n",
    "plt.show()\n",
    "# ax.plot(bins, y, '--')"
   ]
  }
 ],
 "metadata": {
  "kernelspec": {
   "display_name": "Python 3 (ipykernel)",
   "language": "python",
   "name": "python3"
  },
  "language_info": {
   "codemirror_mode": {
    "name": "ipython",
    "version": 3
   },
   "file_extension": ".py",
   "mimetype": "text/x-python",
   "name": "python",
   "nbconvert_exporter": "python",
   "pygments_lexer": "ipython3",
   "version": "3.9.16"
  }
 },
 "nbformat": 4,
 "nbformat_minor": 1
}
