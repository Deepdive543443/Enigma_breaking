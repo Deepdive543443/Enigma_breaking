{
 "cells": [
  {
   "cell_type": "code",
   "execution_count": 1,
   "metadata": {
    "pycharm": {
     "name": "#%%\n"
    }
   },
   "outputs": [],
   "source": [
    "import torch\n",
    "import numpy as np\n",
    "from model import cp_2_k_mask, cp_2_k_onnx\n",
    "from config import args\n",
    "from dataset import Enigma_simulate_c_2_p, Enigma_simulate_cp_2_k_limited, Enigma_simulate_cp_2_k\n",
    "from torch.utils.data import DataLoader\n",
    "import math\n",
    "from torchsummary import summary\n",
    "from tqdm import tqdm"
   ]
  },
  {
   "cell_type": "markdown",
   "metadata": {
    "pycharm": {
     "name": "#%% md\n"
    }
   },
   "source": [
    "Copying the compiled weight to regular models"
   ]
  },
  {
   "cell_type": "code",
   "execution_count": 2,
   "metadata": {
    "pycharm": {
     "name": "#%%\n"
    }
   },
   "outputs": [
    {
     "name": "stdout",
     "output_type": "stream",
     "text": [
      "Parameters: 27408974\n"
     ]
    },
    {
     "data": {
      "text/plain": "cp_2_k_mask(\n  (networks): ModuleList(\n    (0): RNN_encoder(\n      (enc): LSTM(512, 512, num_layers=2, dropout=0.2, bidirectional=True)\n      (dropout): Dropout(p=0.2, inplace=False)\n    )\n    (1): TransformerEncoder(\n      (layers): ModuleList(\n        (0-1): 2 x TransformerEncoderLayer(\n          (self_attn): MultiheadAttention(\n            (out_proj): NonDynamicallyQuantizableLinear(in_features=1024, out_features=1024, bias=True)\n          )\n          (linear1): Linear(in_features=1024, out_features=2048, bias=True)\n          (dropout): Dropout(p=0.2, inplace=False)\n          (linear2): Linear(in_features=2048, out_features=1024, bias=True)\n          (norm1): LayerNorm((1024,), eps=1e-05, elementwise_affine=True)\n          (norm2): LayerNorm((1024,), eps=1e-05, elementwise_affine=True)\n          (dropout1): Dropout(p=0.2, inplace=False)\n          (dropout2): Dropout(p=0.2, inplace=False)\n        )\n      )\n    )\n  )\n  (linear_projectors): Linear(in_features=1024, out_features=78, bias=True)\n  (emb): Linear(in_features=52, out_features=512, bias=True)\n  (dropout): Dropout(p=0.2, inplace=False)\n)"
     },
     "execution_count": 2,
     "metadata": {},
     "output_type": "execute_result"
    }
   ],
   "source": [
    "# Load trained model's weights and config\n",
    "ckpt = torch.load('CP2K_RNN_ENC_ckpt.pt')\n",
    "ckpt_args = ckpt['args']\n",
    "\n",
    "# Initialize new model by configs\n",
    "model = cp_2_k_mask(args=ckpt_args, out_channels=26)\n",
    "model.to('cuda')\n",
    "model.eval()\n",
    "\n",
    "# Load weights, calculate the number of parameters\n",
    "weights = []\n",
    "num_param = 0\n",
    "for k, v in ckpt['weights'].items():\n",
    "    weights.append(v)\n",
    "    num_param += np.prod(v.shape)\n",
    "print(f\"Parameters: {num_param}\")\n",
    "\n",
    "# Copying weights from compile model to new model\n",
    "for idx, (k, v) in enumerate(model.state_dict().items()):\n",
    "    # We have to copying like this, I am so confused\n",
    "    v *= 0\n",
    "    v += weights[idx].detach()\n",
    "\n",
    "# Set the model to evaluate mode\n",
    "model.eval()"
   ]
  },
  {
   "cell_type": "markdown",
   "metadata": {
    "pycharm": {
     "name": "#%% md\n"
    }
   },
   "source": [
    "Running a mini batch of examples"
   ]
  },
  {
   "cell_type": "code",
   "execution_count": 3,
   "metadata": {
    "pycharm": {
     "name": "#%%\n"
    }
   },
   "outputs": [
    {
     "name": "stdout",
     "output_type": "stream",
     "text": [
      "Input shape: torch.Size([30, 512, 52]) [seq, batch, feats]\n",
      "Target shape: torch.Size([3, 30, 512])  [rotor, seq, batch]\n",
      "Mask shape: torch.Size([512, 30])  [batch, seq]\n",
      "Output shape: torch.Size([3, 30, 512, 26])  [rotor, seq, batch, feats]\n",
      "Acc: 0.9993489980697632\n"
     ]
    }
   ],
   "source": [
    "dataset = Enigma_simulate_cp_2_k_limited(args=args)\n",
    "dataloader = DataLoader(\n",
    "        dataset=dataset,\n",
    "        batch_size=512,\n",
    "        collate_fn=dataset.collate_fn_padding,\n",
    "        shuffle=True\n",
    "    )\n",
    "\n",
    "data_iter = iter(dataloader)\n",
    "inputs, targets, masks = next(data_iter)\n",
    "inputs, targets, masks = inputs.to('cuda'), targets.to('cuda'), masks.to('cuda')\n",
    "\n",
    "outputs = model(inputs, masks)\n",
    "\n",
    "print(f\"Input shape: {inputs.shape} {'[seq, batch, feats]'}\\n\"\n",
    "          f\"Target shape: {targets.shape}  {'[rotor, seq, batch]'}\\n\"\n",
    "          f\"Mask shape: {masks.shape}  {'[batch, seq]'}\\n\"\n",
    "          f\"Output shape: {outputs.shape}  {'[rotor, seq, batch, feats]'}\")\n",
    "\n",
    "true_positive = 0\n",
    "samples = 0\n",
    "\n",
    "outputs_indices = torch.argmax(outputs, dim=-1) # -> [rotor, seq, batch]\n",
    "for rotor in range(outputs_indices.shape[0]):\n",
    "    mask = outputs_indices[rotor][~masks.T] == targets[rotor][~masks.T]\n",
    "    true_positive += mask.sum()\n",
    "    samples += math.prod(mask.shape)\n",
    "\n",
    "print(f\"Acc: {true_positive / samples}\")"
   ]
  },
  {
   "cell_type": "code",
   "execution_count": 4,
   "metadata": {
    "pycharm": {
     "name": "#%%\n"
    }
   },
   "outputs": [
    {
     "name": "stdout",
     "output_type": "stream",
     "text": [
      "Prediction: AES\n"
     ]
    }
   ],
   "source": [
    "# Make prediction based on user's inputs( Results should be \"AES\")\n",
    "from dataset import cipher_plain_text_2_tensor\n",
    "inputs, masks = cipher_plain_text_2_tensor('VMPDTAJYTXDZNEFOSOTPJOYSMO', 'WEARETHECHAMPIONANDTHEBEST') # Predict on usr inputs\n",
    "inputs, masks = inputs.to('cuda'), masks.to('cuda')\n",
    "\n",
    "\n",
    "# Make prediction\n",
    "with torch.no_grad():\n",
    "    outputs = model(inputs, masks).argmax(dim=-1).squeeze(-1) # -> shape [rotor, seq]\n",
    "\n",
    "# print the prediction at the first postion, which is the initial states\n",
    "print(f\"Prediction: {chr(ord('A') + outputs[0, 0])}\"\n",
    "      f\"{chr(ord('A') + outputs[1, 0])}\"\n",
    "      f\"{chr(ord('A') + outputs[2, 0])}\")"
   ]
  },
  {
   "cell_type": "code",
   "execution_count": 5,
   "outputs": [
    {
     "name": "stdout",
     "output_type": "stream",
     "text": [
      "Parameters: 27408974\n",
      "Input shape: torch.Size([30, 1, 52]) [seq, batch, feats]\n",
      "Target shape: torch.Size([3, 30, 1])  [rotor, seq, batch]\n",
      "Mask shape: torch.Size([1, 30])  [batch, seq]\n",
      "Output shape: torch.Size([3, 30, 1, 26])  [rotor, seq, batch, feats]\n",
      "Acc: 1.0\n"
     ]
    },
    {
     "name": "stderr",
     "output_type": "stream",
     "text": [
      "C:\\Users\\83577\\anaconda3\\envs\\torch\\lib\\site-packages\\torch\\onnx\\symbolic_opset9.py:4476: UserWarning: Exporting a model to ONNX with a batch_size other than 1, with a variable length with LSTM can cause an error when running the ONNX model with a different batch size. Make sure to save the model with a batch size of 1, or define the initial states (h0/c0) as inputs of the model. \n",
      "  warnings.warn(\n"
     ]
    },
    {
     "name": "stdout",
     "output_type": "stream",
     "text": [
      "============= Diagnostic Run torch.onnx.export version 2.0.1+cu117 =============\n",
      "verbose: False, log level: Level.ERROR\n",
      "======================= 0 NONE 0 NOTE 0 WARNING 1 ERROR ========================\n",
      "ERROR: missing-standard-symbolic-function\n",
      "=========================================\n",
      "Exporting the operator 'aten::unflatten' to ONNX opset version 14 is not supported. Please feel free to request support or submit a pull request on PyTorch GitHub: https://github.com/pytorch/pytorch/issues.\n",
      "None\n",
      "<Set verbose=True to see more details>\n",
      "\n",
      "\n"
     ]
    },
    {
     "ename": "UnsupportedOperatorError",
     "evalue": "Exporting the operator 'aten::unflatten' to ONNX opset version 14 is not supported. Please feel free to request support or submit a pull request on PyTorch GitHub: https://github.com/pytorch/pytorch/issues.",
     "output_type": "error",
     "traceback": [
      "\u001B[1;31m---------------------------------------------------------------------------\u001B[0m",
      "\u001B[1;31mUnsupportedOperatorError\u001B[0m                  Traceback (most recent call last)",
      "Cell \u001B[1;32mIn[5], line 54\u001B[0m\n\u001B[0;32m     51\u001B[0m \u001B[38;5;28mprint\u001B[39m(\u001B[38;5;124mf\u001B[39m\u001B[38;5;124m\"\u001B[39m\u001B[38;5;124mAcc: \u001B[39m\u001B[38;5;132;01m{\u001B[39;00mtrue_positive\u001B[38;5;250m \u001B[39m\u001B[38;5;241m/\u001B[39m\u001B[38;5;250m \u001B[39msamples\u001B[38;5;132;01m}\u001B[39;00m\u001B[38;5;124m\"\u001B[39m)\n\u001B[0;32m     53\u001B[0m \u001B[38;5;66;03m# Export onnx model\u001B[39;00m\n\u001B[1;32m---> 54\u001B[0m \u001B[43mtorch\u001B[49m\u001B[38;5;241;43m.\u001B[39;49m\u001B[43monnx\u001B[49m\u001B[38;5;241;43m.\u001B[39;49m\u001B[43mexport\u001B[49m\u001B[43m(\u001B[49m\n\u001B[0;32m     55\u001B[0m \u001B[43m    \u001B[49m\u001B[43monnx_model\u001B[49m\u001B[43m,\u001B[49m\n\u001B[0;32m     56\u001B[0m \u001B[43m    \u001B[49m\u001B[43margs\u001B[49m\u001B[38;5;241;43m=\u001B[39;49m\u001B[43minputs\u001B[49m\u001B[43m,\u001B[49m\n\u001B[0;32m     57\u001B[0m \u001B[43m    \u001B[49m\u001B[43mf\u001B[49m\u001B[38;5;241;43m=\u001B[39;49m\u001B[38;5;124;43m\"\u001B[39;49m\u001B[38;5;124;43mseq5-45-large.onnx\u001B[39;49m\u001B[38;5;124;43m\"\u001B[39;49m\u001B[43m,\u001B[49m\n\u001B[0;32m     58\u001B[0m \u001B[43m    \u001B[49m\u001B[43minput_names\u001B[49m\u001B[38;5;241;43m=\u001B[39;49m\u001B[43m[\u001B[49m\u001B[38;5;124;43m\"\u001B[39;49m\u001B[38;5;124;43minput_1\u001B[39;49m\u001B[38;5;124;43m\"\u001B[39;49m\u001B[43m]\u001B[49m\u001B[43m,\u001B[49m\n\u001B[0;32m     59\u001B[0m \u001B[43m    \u001B[49m\u001B[43moutput_names\u001B[49m\u001B[38;5;241;43m=\u001B[39;49m\u001B[43m[\u001B[49m\u001B[38;5;124;43m\"\u001B[39;49m\u001B[38;5;124;43moutput1\u001B[39;49m\u001B[38;5;124;43m\"\u001B[39;49m\u001B[43m]\u001B[49m\n\u001B[0;32m     60\u001B[0m \u001B[43m)\u001B[49m\n\u001B[0;32m     62\u001B[0m \u001B[38;5;66;03m# Load and verify onnx model\u001B[39;00m\n\u001B[0;32m     63\u001B[0m ort_session \u001B[38;5;241m=\u001B[39m onnxruntime\u001B[38;5;241m.\u001B[39mInferenceSession(\u001B[38;5;124m\"\u001B[39m\u001B[38;5;124mseq5-45-large.onnx\u001B[39m\u001B[38;5;124m\"\u001B[39m)\n",
      "File \u001B[1;32m~\\anaconda3\\envs\\torch\\lib\\site-packages\\torch\\onnx\\utils.py:506\u001B[0m, in \u001B[0;36mexport\u001B[1;34m(model, args, f, export_params, verbose, training, input_names, output_names, operator_export_type, opset_version, do_constant_folding, dynamic_axes, keep_initializers_as_inputs, custom_opsets, export_modules_as_functions)\u001B[0m\n\u001B[0;32m    188\u001B[0m \u001B[38;5;129m@_beartype\u001B[39m\u001B[38;5;241m.\u001B[39mbeartype\n\u001B[0;32m    189\u001B[0m \u001B[38;5;28;01mdef\u001B[39;00m \u001B[38;5;21mexport\u001B[39m(\n\u001B[0;32m    190\u001B[0m     model: Union[torch\u001B[38;5;241m.\u001B[39mnn\u001B[38;5;241m.\u001B[39mModule, torch\u001B[38;5;241m.\u001B[39mjit\u001B[38;5;241m.\u001B[39mScriptModule, torch\u001B[38;5;241m.\u001B[39mjit\u001B[38;5;241m.\u001B[39mScriptFunction],\n\u001B[1;32m   (...)\u001B[0m\n\u001B[0;32m    206\u001B[0m     export_modules_as_functions: Union[\u001B[38;5;28mbool\u001B[39m, Collection[Type[torch\u001B[38;5;241m.\u001B[39mnn\u001B[38;5;241m.\u001B[39mModule]]] \u001B[38;5;241m=\u001B[39m \u001B[38;5;28;01mFalse\u001B[39;00m,\n\u001B[0;32m    207\u001B[0m ) \u001B[38;5;241m-\u001B[39m\u001B[38;5;241m>\u001B[39m \u001B[38;5;28;01mNone\u001B[39;00m:\n\u001B[0;32m    208\u001B[0m \u001B[38;5;250m    \u001B[39m\u001B[38;5;124mr\u001B[39m\u001B[38;5;124;03m\"\"\"Exports a model into ONNX format.\u001B[39;00m\n\u001B[0;32m    209\u001B[0m \n\u001B[0;32m    210\u001B[0m \u001B[38;5;124;03m    If ``model`` is not a :class:`torch.jit.ScriptModule` nor a\u001B[39;00m\n\u001B[1;32m   (...)\u001B[0m\n\u001B[0;32m    503\u001B[0m \u001B[38;5;124;03m            All errors are subclasses of :class:`errors.OnnxExporterError`.\u001B[39;00m\n\u001B[0;32m    504\u001B[0m \u001B[38;5;124;03m    \"\"\"\u001B[39;00m\n\u001B[1;32m--> 506\u001B[0m     \u001B[43m_export\u001B[49m\u001B[43m(\u001B[49m\n\u001B[0;32m    507\u001B[0m \u001B[43m        \u001B[49m\u001B[43mmodel\u001B[49m\u001B[43m,\u001B[49m\n\u001B[0;32m    508\u001B[0m \u001B[43m        \u001B[49m\u001B[43margs\u001B[49m\u001B[43m,\u001B[49m\n\u001B[0;32m    509\u001B[0m \u001B[43m        \u001B[49m\u001B[43mf\u001B[49m\u001B[43m,\u001B[49m\n\u001B[0;32m    510\u001B[0m \u001B[43m        \u001B[49m\u001B[43mexport_params\u001B[49m\u001B[43m,\u001B[49m\n\u001B[0;32m    511\u001B[0m \u001B[43m        \u001B[49m\u001B[43mverbose\u001B[49m\u001B[43m,\u001B[49m\n\u001B[0;32m    512\u001B[0m \u001B[43m        \u001B[49m\u001B[43mtraining\u001B[49m\u001B[43m,\u001B[49m\n\u001B[0;32m    513\u001B[0m \u001B[43m        \u001B[49m\u001B[43minput_names\u001B[49m\u001B[43m,\u001B[49m\n\u001B[0;32m    514\u001B[0m \u001B[43m        \u001B[49m\u001B[43moutput_names\u001B[49m\u001B[43m,\u001B[49m\n\u001B[0;32m    515\u001B[0m \u001B[43m        \u001B[49m\u001B[43moperator_export_type\u001B[49m\u001B[38;5;241;43m=\u001B[39;49m\u001B[43moperator_export_type\u001B[49m\u001B[43m,\u001B[49m\n\u001B[0;32m    516\u001B[0m \u001B[43m        \u001B[49m\u001B[43mopset_version\u001B[49m\u001B[38;5;241;43m=\u001B[39;49m\u001B[43mopset_version\u001B[49m\u001B[43m,\u001B[49m\n\u001B[0;32m    517\u001B[0m \u001B[43m        \u001B[49m\u001B[43mdo_constant_folding\u001B[49m\u001B[38;5;241;43m=\u001B[39;49m\u001B[43mdo_constant_folding\u001B[49m\u001B[43m,\u001B[49m\n\u001B[0;32m    518\u001B[0m \u001B[43m        \u001B[49m\u001B[43mdynamic_axes\u001B[49m\u001B[38;5;241;43m=\u001B[39;49m\u001B[43mdynamic_axes\u001B[49m\u001B[43m,\u001B[49m\n\u001B[0;32m    519\u001B[0m \u001B[43m        \u001B[49m\u001B[43mkeep_initializers_as_inputs\u001B[49m\u001B[38;5;241;43m=\u001B[39;49m\u001B[43mkeep_initializers_as_inputs\u001B[49m\u001B[43m,\u001B[49m\n\u001B[0;32m    520\u001B[0m \u001B[43m        \u001B[49m\u001B[43mcustom_opsets\u001B[49m\u001B[38;5;241;43m=\u001B[39;49m\u001B[43mcustom_opsets\u001B[49m\u001B[43m,\u001B[49m\n\u001B[0;32m    521\u001B[0m \u001B[43m        \u001B[49m\u001B[43mexport_modules_as_functions\u001B[49m\u001B[38;5;241;43m=\u001B[39;49m\u001B[43mexport_modules_as_functions\u001B[49m\u001B[43m,\u001B[49m\n\u001B[0;32m    522\u001B[0m \u001B[43m    \u001B[49m\u001B[43m)\u001B[49m\n",
      "File \u001B[1;32m~\\anaconda3\\envs\\torch\\lib\\site-packages\\torch\\onnx\\utils.py:1548\u001B[0m, in \u001B[0;36m_export\u001B[1;34m(model, args, f, export_params, verbose, training, input_names, output_names, operator_export_type, export_type, opset_version, do_constant_folding, dynamic_axes, keep_initializers_as_inputs, fixed_batch_size, custom_opsets, add_node_names, onnx_shape_inference, export_modules_as_functions)\u001B[0m\n\u001B[0;32m   1545\u001B[0m     dynamic_axes \u001B[38;5;241m=\u001B[39m {}\n\u001B[0;32m   1546\u001B[0m _validate_dynamic_axes(dynamic_axes, model, input_names, output_names)\n\u001B[1;32m-> 1548\u001B[0m graph, params_dict, torch_out \u001B[38;5;241m=\u001B[39m \u001B[43m_model_to_graph\u001B[49m\u001B[43m(\u001B[49m\n\u001B[0;32m   1549\u001B[0m \u001B[43m    \u001B[49m\u001B[43mmodel\u001B[49m\u001B[43m,\u001B[49m\n\u001B[0;32m   1550\u001B[0m \u001B[43m    \u001B[49m\u001B[43margs\u001B[49m\u001B[43m,\u001B[49m\n\u001B[0;32m   1551\u001B[0m \u001B[43m    \u001B[49m\u001B[43mverbose\u001B[49m\u001B[43m,\u001B[49m\n\u001B[0;32m   1552\u001B[0m \u001B[43m    \u001B[49m\u001B[43minput_names\u001B[49m\u001B[43m,\u001B[49m\n\u001B[0;32m   1553\u001B[0m \u001B[43m    \u001B[49m\u001B[43moutput_names\u001B[49m\u001B[43m,\u001B[49m\n\u001B[0;32m   1554\u001B[0m \u001B[43m    \u001B[49m\u001B[43moperator_export_type\u001B[49m\u001B[43m,\u001B[49m\n\u001B[0;32m   1555\u001B[0m \u001B[43m    \u001B[49m\u001B[43mval_do_constant_folding\u001B[49m\u001B[43m,\u001B[49m\n\u001B[0;32m   1556\u001B[0m \u001B[43m    \u001B[49m\u001B[43mfixed_batch_size\u001B[49m\u001B[38;5;241;43m=\u001B[39;49m\u001B[43mfixed_batch_size\u001B[49m\u001B[43m,\u001B[49m\n\u001B[0;32m   1557\u001B[0m \u001B[43m    \u001B[49m\u001B[43mtraining\u001B[49m\u001B[38;5;241;43m=\u001B[39;49m\u001B[43mtraining\u001B[49m\u001B[43m,\u001B[49m\n\u001B[0;32m   1558\u001B[0m \u001B[43m    \u001B[49m\u001B[43mdynamic_axes\u001B[49m\u001B[38;5;241;43m=\u001B[39;49m\u001B[43mdynamic_axes\u001B[49m\u001B[43m,\u001B[49m\n\u001B[0;32m   1559\u001B[0m \u001B[43m\u001B[49m\u001B[43m)\u001B[49m\n\u001B[0;32m   1561\u001B[0m \u001B[38;5;66;03m# TODO: Don't allocate a in-memory string for the protobuf\u001B[39;00m\n\u001B[0;32m   1562\u001B[0m defer_weight_export \u001B[38;5;241m=\u001B[39m (\n\u001B[0;32m   1563\u001B[0m     export_type \u001B[38;5;129;01mis\u001B[39;00m \u001B[38;5;129;01mnot\u001B[39;00m _exporter_states\u001B[38;5;241m.\u001B[39mExportTypes\u001B[38;5;241m.\u001B[39mPROTOBUF_FILE\n\u001B[0;32m   1564\u001B[0m )\n",
      "File \u001B[1;32m~\\anaconda3\\envs\\torch\\lib\\site-packages\\torch\\onnx\\utils.py:1117\u001B[0m, in \u001B[0;36m_model_to_graph\u001B[1;34m(model, args, verbose, input_names, output_names, operator_export_type, do_constant_folding, _disable_torch_constant_prop, fixed_batch_size, training, dynamic_axes)\u001B[0m\n\u001B[0;32m   1114\u001B[0m params_dict \u001B[38;5;241m=\u001B[39m _get_named_param_dict(graph, params)\n\u001B[0;32m   1116\u001B[0m \u001B[38;5;28;01mtry\u001B[39;00m:\n\u001B[1;32m-> 1117\u001B[0m     graph \u001B[38;5;241m=\u001B[39m \u001B[43m_optimize_graph\u001B[49m\u001B[43m(\u001B[49m\n\u001B[0;32m   1118\u001B[0m \u001B[43m        \u001B[49m\u001B[43mgraph\u001B[49m\u001B[43m,\u001B[49m\n\u001B[0;32m   1119\u001B[0m \u001B[43m        \u001B[49m\u001B[43moperator_export_type\u001B[49m\u001B[43m,\u001B[49m\n\u001B[0;32m   1120\u001B[0m \u001B[43m        \u001B[49m\u001B[43m_disable_torch_constant_prop\u001B[49m\u001B[38;5;241;43m=\u001B[39;49m\u001B[43m_disable_torch_constant_prop\u001B[49m\u001B[43m,\u001B[49m\n\u001B[0;32m   1121\u001B[0m \u001B[43m        \u001B[49m\u001B[43mfixed_batch_size\u001B[49m\u001B[38;5;241;43m=\u001B[39;49m\u001B[43mfixed_batch_size\u001B[49m\u001B[43m,\u001B[49m\n\u001B[0;32m   1122\u001B[0m \u001B[43m        \u001B[49m\u001B[43mparams_dict\u001B[49m\u001B[38;5;241;43m=\u001B[39;49m\u001B[43mparams_dict\u001B[49m\u001B[43m,\u001B[49m\n\u001B[0;32m   1123\u001B[0m \u001B[43m        \u001B[49m\u001B[43mdynamic_axes\u001B[49m\u001B[38;5;241;43m=\u001B[39;49m\u001B[43mdynamic_axes\u001B[49m\u001B[43m,\u001B[49m\n\u001B[0;32m   1124\u001B[0m \u001B[43m        \u001B[49m\u001B[43minput_names\u001B[49m\u001B[38;5;241;43m=\u001B[39;49m\u001B[43minput_names\u001B[49m\u001B[43m,\u001B[49m\n\u001B[0;32m   1125\u001B[0m \u001B[43m        \u001B[49m\u001B[43mmodule\u001B[49m\u001B[38;5;241;43m=\u001B[39;49m\u001B[43mmodule\u001B[49m\u001B[43m,\u001B[49m\n\u001B[0;32m   1126\u001B[0m \u001B[43m    \u001B[49m\u001B[43m)\u001B[49m\n\u001B[0;32m   1127\u001B[0m \u001B[38;5;28;01mexcept\u001B[39;00m \u001B[38;5;167;01mException\u001B[39;00m \u001B[38;5;28;01mas\u001B[39;00m e:\n\u001B[0;32m   1128\u001B[0m     torch\u001B[38;5;241m.\u001B[39monnx\u001B[38;5;241m.\u001B[39mlog(\u001B[38;5;124m\"\u001B[39m\u001B[38;5;124mTorch IR graph at exception: \u001B[39m\u001B[38;5;124m\"\u001B[39m, graph)\n",
      "File \u001B[1;32m~\\anaconda3\\envs\\torch\\lib\\site-packages\\torch\\onnx\\utils.py:665\u001B[0m, in \u001B[0;36m_optimize_graph\u001B[1;34m(graph, operator_export_type, _disable_torch_constant_prop, fixed_batch_size, params_dict, dynamic_axes, input_names, module)\u001B[0m\n\u001B[0;32m    662\u001B[0m     _C\u001B[38;5;241m.\u001B[39m_jit_pass_onnx_set_dynamic_input_shape(graph, dynamic_axes, input_names)\n\u001B[0;32m    663\u001B[0m _C\u001B[38;5;241m.\u001B[39m_jit_pass_onnx_lint(graph)\n\u001B[1;32m--> 665\u001B[0m graph \u001B[38;5;241m=\u001B[39m \u001B[43m_C\u001B[49m\u001B[38;5;241;43m.\u001B[39;49m\u001B[43m_jit_pass_onnx\u001B[49m\u001B[43m(\u001B[49m\u001B[43mgraph\u001B[49m\u001B[43m,\u001B[49m\u001B[43m \u001B[49m\u001B[43moperator_export_type\u001B[49m\u001B[43m)\u001B[49m\n\u001B[0;32m    666\u001B[0m _C\u001B[38;5;241m.\u001B[39m_jit_pass_onnx_lint(graph)\n\u001B[0;32m    667\u001B[0m _C\u001B[38;5;241m.\u001B[39m_jit_pass_lint(graph)\n",
      "File \u001B[1;32m~\\anaconda3\\envs\\torch\\lib\\site-packages\\torch\\onnx\\utils.py:1901\u001B[0m, in \u001B[0;36m_run_symbolic_function\u001B[1;34m(graph, block, node, inputs, env, operator_export_type)\u001B[0m\n\u001B[0;32m   1897\u001B[0m     \u001B[38;5;28;01mif\u001B[39;00m namespace \u001B[38;5;241m==\u001B[39m \u001B[38;5;124m\"\u001B[39m\u001B[38;5;124monnx\u001B[39m\u001B[38;5;124m\"\u001B[39m:\n\u001B[0;32m   1898\u001B[0m         \u001B[38;5;66;03m# Clone node to trigger ONNX shape inference\u001B[39;00m\n\u001B[0;32m   1899\u001B[0m         \u001B[38;5;28;01mreturn\u001B[39;00m graph_context\u001B[38;5;241m.\u001B[39mop(op_name, \u001B[38;5;241m*\u001B[39minputs, \u001B[38;5;241m*\u001B[39m\u001B[38;5;241m*\u001B[39mattrs, outputs\u001B[38;5;241m=\u001B[39mnode\u001B[38;5;241m.\u001B[39moutputsSize())  \u001B[38;5;66;03m# type: ignore[attr-defined]\u001B[39;00m\n\u001B[1;32m-> 1901\u001B[0m     \u001B[38;5;28;01mraise\u001B[39;00m errors\u001B[38;5;241m.\u001B[39mUnsupportedOperatorError(\n\u001B[0;32m   1902\u001B[0m         symbolic_function_name,\n\u001B[0;32m   1903\u001B[0m         opset_version,\n\u001B[0;32m   1904\u001B[0m         symbolic_function_group\u001B[38;5;241m.\u001B[39mget_min_supported()\n\u001B[0;32m   1905\u001B[0m         \u001B[38;5;28;01mif\u001B[39;00m symbolic_function_group\n\u001B[0;32m   1906\u001B[0m         \u001B[38;5;28;01melse\u001B[39;00m \u001B[38;5;28;01mNone\u001B[39;00m,\n\u001B[0;32m   1907\u001B[0m     )\n\u001B[0;32m   1909\u001B[0m \u001B[38;5;28;01mexcept\u001B[39;00m \u001B[38;5;167;01mRuntimeError\u001B[39;00m:\n\u001B[0;32m   1910\u001B[0m     \u001B[38;5;28;01mif\u001B[39;00m operator_export_type \u001B[38;5;241m==\u001B[39m _C_onnx\u001B[38;5;241m.\u001B[39mOperatorExportTypes\u001B[38;5;241m.\u001B[39mONNX_FALLTHROUGH:\n",
      "\u001B[1;31mUnsupportedOperatorError\u001B[0m: Exporting the operator 'aten::unflatten' to ONNX opset version 14 is not supported. Please feel free to request support or submit a pull request on PyTorch GitHub: https://github.com/pytorch/pytorch/issues."
     ]
    }
   ],
   "source": [
    "# Transfer to onnx\n",
    "import onnx, onnxruntime\n",
    "onnx_model = cp_2_k_onnx(args=ckpt_args, out_channels=26)\n",
    "onnx_model.to('cuda')\n",
    "onnx_model.eval()\n",
    "\n",
    "# Load weights, calculate the number of parameters\n",
    "weights = []\n",
    "num_param = 0\n",
    "for k, v in ckpt['weights'].items():\n",
    "    weights.append(v)\n",
    "    num_param += np.prod(v.shape)\n",
    "print(f\"Parameters: {num_param}\")\n",
    "\n",
    "# Copying weights from compile model to new model\n",
    "for idx, (k, v) in enumerate(onnx_model.state_dict().items()):\n",
    "    # We have to copying like this, I am so confused\n",
    "    v *= 0\n",
    "    v += weights[idx].detach()\n",
    "\n",
    "# Testing the pre-export model in batch size 1\n",
    "dataloader = DataLoader(\n",
    "        dataset=dataset,\n",
    "        batch_size=1,\n",
    "        collate_fn=dataset.collate_fn_padding,\n",
    "        shuffle=True\n",
    "    )\n",
    "\n",
    "# Get samples for dataset\n",
    "data_iter = iter(dataloader)\n",
    "inputs, targets, masks = next(data_iter)\n",
    "inputs, targets, masks = inputs.to('cuda'), targets.to('cuda'), masks.to('cuda')\n",
    "\n",
    "outputs = onnx_model(inputs)\n",
    "\n",
    "print(f\"Input shape: {inputs.shape} {'[seq, batch, feats]'}\\n\"\n",
    "      f\"Target shape: {targets.shape}  {'[rotor, seq, batch]'}\\n\"\n",
    "      f\"Mask shape: {masks.shape}  {'[batch, seq]'}\\n\"\n",
    "      f\"Output shape: {outputs.shape}  {'[rotor, seq, batch, feats]'}\")\n",
    "\n",
    "\n",
    "true_positive = 0\n",
    "samples = 0\n",
    "\n",
    "outputs_indices = torch.argmax(outputs, dim=-1) # -> [rotor, seq, batch]\n",
    "for rotor in range(outputs_indices.shape[0]):\n",
    "    mask = outputs_indices[rotor][~masks.T] == targets[rotor][~masks.T]\n",
    "    true_positive += mask.sum()\n",
    "    samples += math.prod(mask.shape)\n",
    "\n",
    "print(f\"Acc: {true_positive / samples}\")\n",
    "\n",
    "# Export onnx model\n",
    "torch.onnx.export(\n",
    "    onnx_model,\n",
    "    args=inputs,\n",
    "    f=\"seq5-45-large.onnx\",\n",
    "    input_names=[\"input_1\"],\n",
    "    output_names=[\"output1\"]\n",
    ")\n",
    "\n",
    "# Load and verify onnx model\n",
    "ort_session = onnxruntime.InferenceSession(\"seq5-45-large.onnx\")\n",
    "inputs, _ = cipher_plain_text_2_tensor('WEARETHECHAMPIONANDTHEBESTPLAY', 'VMPDTAJYTXDZNEFOSOTPJOYSMOEBNX')\n",
    "outputs = ort_session.run(\n",
    "    None,\n",
    "    {\"input_1\": np.array(inputs)},\n",
    ")\n",
    "\n",
    "outputs = outputs[0].argmax(axis=-1).reshape(outputs[0].shape[0], outputs[0].shape[1])\n",
    "print(outputs.shape)\n",
    "print(f\"Onnx Prediction: {chr(ord('A') + outputs[0, 0])}\"\n",
    "      f\"{chr(ord('A') + outputs[1, 0])}\"\n",
    "      f\"{chr(ord('A') + outputs[2, 0])}\")\n"
   ],
   "metadata": {
    "collapsed": false,
    "pycharm": {
     "name": "#%%\n"
    }
   }
  },
  {
   "cell_type": "code",
   "execution_count": 6,
   "metadata": {
    "pycharm": {
     "name": "#%%\n"
    }
   },
   "outputs": [
    {
     "name": "stderr",
     "output_type": "stream",
     "text": [
      "Length: 5: 100%|██████████| 35/35 [00:06<00:00,  5.63it/s, Acc: 0.12045592069625854]\n",
      "Length: 6: 100%|██████████| 35/35 [00:06<00:00,  5.02it/s, Acc: 0.1898564249277115] \n",
      "Length: 7: 100%|██████████| 35/35 [00:07<00:00,  4.76it/s, Acc: 0.3023237884044647] \n",
      "Length: 8: 100%|██████████| 35/35 [00:07<00:00,  4.68it/s, Acc: 0.4520321488380432] \n",
      "Length: 9: 100%|██████████| 35/35 [00:07<00:00,  4.54it/s, Acc: 0.6056374907493591]\n",
      "Length: 10: 100%|██████████| 35/35 [00:07<00:00,  4.42it/s, Acc: 0.729058563709259] \n",
      "Length: 11: 100%|██████████| 35/35 [00:08<00:00,  4.28it/s, Acc: 0.8160499334335327]\n",
      "Length: 12: 100%|██████████| 35/35 [00:08<00:00,  4.10it/s, Acc: 0.877768874168396] \n",
      "Length: 13: 100%|██████████| 35/35 [00:08<00:00,  4.05it/s, Acc: 0.9175747632980347]\n",
      "Length: 14: 100%|██████████| 35/35 [00:08<00:00,  3.98it/s, Acc: 0.9459916949272156]\n",
      "Length: 15: 100%|██████████| 35/35 [00:08<00:00,  4.05it/s, Acc: 0.9669827818870544]\n",
      "Length: 16: 100%|██████████| 35/35 [00:09<00:00,  3.72it/s, Acc: 0.9804503917694092]\n",
      "Length: 17: 100%|██████████| 35/35 [00:09<00:00,  3.81it/s, Acc: 0.9875883460044861]\n",
      "Length: 18: 100%|██████████| 35/35 [00:09<00:00,  3.54it/s, Acc: 0.9920482635498047]\n",
      "Length: 19: 100%|██████████| 35/35 [00:09<00:00,  3.53it/s, Acc: 0.9936186671257019]\n",
      "Length: 20: 100%|██████████| 35/35 [00:10<00:00,  3.48it/s, Acc: 0.995372474193573] \n",
      "Length: 21: 100%|██████████| 35/35 [00:10<00:00,  3.28it/s, Acc: 0.9963916540145874]\n",
      "Length: 22: 100%|██████████| 35/35 [00:10<00:00,  3.31it/s, Acc: 0.9970461130142212]\n",
      "Length: 23: 100%|██████████| 35/35 [00:10<00:00,  3.32it/s, Acc: 0.9974124431610107]\n",
      "Length: 24: 100%|██████████| 35/35 [00:10<00:00,  3.21it/s, Acc: 0.9977368116378784]\n",
      "Length: 25: 100%|██████████| 35/35 [00:11<00:00,  3.15it/s, Acc: 0.9981303811073303]\n",
      "Length: 26: 100%|██████████| 35/35 [00:12<00:00,  2.82it/s, Acc: 0.9983602166175842]\n",
      "Length: 27: 100%|██████████| 35/35 [00:11<00:00,  2.94it/s, Acc: 0.9987514019012451]\n",
      "Length: 28: 100%|██████████| 35/35 [00:12<00:00,  2.75it/s, Acc: 0.9989372491836548]\n",
      "Length: 29: 100%|██████████| 35/35 [00:11<00:00,  2.92it/s, Acc: 0.9990209937095642]\n",
      "Length: 30: 100%|██████████| 35/35 [00:12<00:00,  2.79it/s, Acc: 0.9990922212600708]\n",
      "Length: 31: 100%|██████████| 35/35 [00:12<00:00,  2.79it/s, Acc: 0.9991114139556885]\n",
      "Length: 32: 100%|██████████| 35/35 [00:12<00:00,  2.76it/s, Acc: 0.999163806438446] \n",
      "Length: 33: 100%|██████████| 35/35 [00:13<00:00,  2.52it/s, Acc: 0.9991856217384338]\n",
      "Length: 34: 100%|██████████| 35/35 [00:13<00:00,  2.65it/s, Acc: 0.999218761920929] \n",
      "Length: 35: 100%|██████████| 35/35 [00:13<00:00,  2.53it/s, Acc: 0.9992514252662659]\n",
      "Length: 36: 100%|██████████| 35/35 [00:13<00:00,  2.54it/s, Acc: 0.9992603063583374]\n",
      "Length: 37: 100%|██████████| 35/35 [00:14<00:00,  2.35it/s, Acc: 0.9992852807044983]\n",
      "Length: 38: 100%|██████████| 35/35 [00:16<00:00,  2.16it/s, Acc: 0.999313473701477] \n",
      "Length: 39: 100%|██████████| 35/35 [00:15<00:00,  2.30it/s, Acc: 0.9993258118629456]\n",
      "Length: 40: 100%|██████████| 35/35 [00:15<00:00,  2.25it/s, Acc: 0.9993447065353394]\n",
      "Length: 41: 100%|██████████| 35/35 [00:15<00:00,  2.30it/s, Acc: 0.9993584156036377]\n",
      "Length: 42: 100%|██████████| 35/35 [00:15<00:00,  2.27it/s, Acc: 0.9993761777877808]\n",
      "Length: 43: 100%|██████████| 35/35 [00:15<00:00,  2.23it/s, Acc: 0.9993929266929626]\n",
      "Length: 44: 100%|██████████| 35/35 [00:16<00:00,  2.17it/s, Acc: 0.9994062185287476]\n",
      "Length: 45: 100%|██████████| 35/35 [00:16<00:00,  2.15it/s, Acc: 0.9994236826896667]\n",
      "Length: 46: 100%|██████████| 35/35 [00:16<00:00,  2.09it/s, Acc: 0.9993805289268494]\n",
      "Length: 47: 100%|██████████| 35/35 [00:23<00:00,  1.48it/s, Acc: 0.9973123669624329]\n",
      "Length: 48: 100%|██████████| 35/35 [00:18<00:00,  1.90it/s, Acc: 0.9979477524757385]\n",
      "Length: 49: 100%|██████████| 35/35 [00:18<00:00,  1.92it/s, Acc: 0.9950199127197266]\n",
      "Length: 50: 100%|██████████| 35/35 [00:18<00:00,  1.88it/s, Acc: 0.9848829507827759]\n"
     ]
    }
   ],
   "source": [
    "# Testint accuracy in different length\n",
    "testing_args = args\n",
    "results = {}\n",
    "\n",
    "\n",
    "for length in range(5, 51):\n",
    "    testing_args['SEQ_LENGTH'] = [length, length]\n",
    "    dataset = Enigma_simulate_cp_2_k_limited(args=testing_args, mode='test')\n",
    "    dataloader = DataLoader(\n",
    "        dataset=dataset,\n",
    "        batch_size=1024,\n",
    "        collate_fn=dataset.collate_fn_padding,\n",
    "        shuffle=False,\n",
    "        drop_last=False\n",
    "    )\n",
    "\n",
    "    # Tracking\n",
    "    true_positive = 0\n",
    "    samples = 0\n",
    "\n",
    "    bar = tqdm(dataloader, leave=True)\n",
    "    bar.set_description_str(f\"Length: {length}\")\n",
    "\n",
    "    for inputs, targets, masks in bar:\n",
    "        inputs, targets, masks = inputs.to('cuda'), targets.to('cuda'), masks.to('cuda')\n",
    "\n",
    "        # Making prediction\n",
    "        # with torch.cuda.amp.autocast():\n",
    "        with torch.no_grad():\n",
    "            outputs = model(inputs, masks)\n",
    "\n",
    "            # Compute accuracy\n",
    "            outputs_indices = torch.argmax(outputs, dim=-1) # -> [rotor, seq, batch]\n",
    "            for rotor in range(outputs_indices.shape[0]):\n",
    "                mask = outputs_indices[rotor][~masks.T] == targets[rotor][~masks.T]\n",
    "                true_positive += mask.sum()\n",
    "                samples += math.prod(mask.shape)\n",
    "\n",
    "        # Set bar's postfix\n",
    "        bar.set_postfix_str(f\"Acc: {(true_positive / samples).item()}\")\n",
    "\n",
    "    # Output and record the result\n",
    "    results[length] = (true_positive / samples).item()"
   ]
  },
  {
   "cell_type": "markdown",
   "source": [],
   "metadata": {
    "collapsed": false,
    "pycharm": {
     "name": "#%% md\n"
    }
   }
  },
  {
   "cell_type": "markdown",
   "metadata": {
    "pycharm": {
     "name": "#%% md\n"
    }
   },
   "source": [
    "Ploting the results"
   ]
  },
  {
   "cell_type": "code",
   "execution_count": 7,
   "metadata": {
    "pycharm": {
     "name": "#%%\n"
    }
   },
   "outputs": [
    {
     "name": "stdout",
     "output_type": "stream",
     "text": [
      "[ 5  6  7  8  9 10 11 12 13 14 15 16 17 18 19 20 21 22 23 24 25 26 27 28\n",
      " 29 30 31 32 33 34 35 36 37 38 39 40 41 42 43 44 45 46 47 48 49 50] [0.12045592 0.18985642 0.30232379 0.45203215 0.60563749 0.72905856\n",
      " 0.81604993 0.87776887 0.91757476 0.94599169 0.96698278 0.98045039\n",
      " 0.98758835 0.99204826 0.99361867 0.99537247 0.99639165 0.99704611\n",
      " 0.99741244 0.99773681 0.99813038 0.99836022 0.9987514  0.99893725\n",
      " 0.99902099 0.99909222 0.99911141 0.99916381 0.99918562 0.99921876\n",
      " 0.99925143 0.99926031 0.99928528 0.99931347 0.99932581 0.99934471\n",
      " 0.99935842 0.99937618 0.99939293 0.99940622 0.99942368 0.99938053\n",
      " 0.99731237 0.99794775 0.99501991 0.98488295]\n"
     ]
    },
    {
     "data": {
      "text/plain": "<Figure size 960x800 with 1 Axes>",
      "image/png": "[encoded data removed]"
     },
     "metadata": {},
     "output_type": "display_data"
    }
   ],
   "source": [
    "import matplotlib.pyplot as plt\n",
    "\n",
    "\n",
    "x = list(results.keys())\n",
    "y = list(results.values())\n",
    "\n",
    "x, y = np.array(x), np.array(y)\n",
    "print(x, y)\n",
    "\n",
    "fig, ax = plt.subplots(figsize=(12, 10), dpi=80)\n",
    "ax.bar(x,height=y)\n",
    "plt.title('Seq5-45-large', fontsize=15)\n",
    "ax.set_ylabel('Acc', fontsize=15)\n",
    "ax.set_xlabel('Length', fontsize=15)\n",
    "plt.show()\n",
    "# ax.plot(bins, y, '--')"
   ]
  }
 ],
 "metadata": {
  "kernelspec": {
   "display_name": "Python 3 (ipykernel)",
   "language": "python",
   "name": "python3"
  },
  "language_info": {
   "codemirror_mode": {
    "name": "ipython",
    "version": 3
   },
   "file_extension": ".py",
   "mimetype": "text/x-python",
   "name": "python",
   "nbconvert_exporter": "python",
   "pygments_lexer": "ipython3",
   "version": "3.9.16"
  }
 },
 "nbformat": 4,
 "nbformat_minor": 1
}