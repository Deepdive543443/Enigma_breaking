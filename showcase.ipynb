{
 "cells": [
  {
   "cell_type": "code",
   "execution_count": 1,
   "metadata": {
    "collapsed": true,
    "pycharm": {
     "name": "#%%\n"
    }
   },
   "outputs": [],
   "source": [
    "import torch"
   ]
  },
  {
   "cell_type": "code",
   "execution_count": 2,
   "outputs": [
    {
     "data": {
      "text/plain": "{'DEVICE': 'cuda',\n 'BATCH_SIZE': 256,\n 'LEARNING_RATE': 0.0003,\n 'EPOCHS': 500,\n 'RNN_TYPE': 'NOT GRU',\n 'LAYERS': 2,\n 'EMB_DIM': 27,\n 'HIDDEN': 3000,\n 'DROPOUT': 0.5,\n 'BIDIRECTION': True,\n 'VOCAB_SIZE': 27,\n 'SEQ_LENGTH': 15,\n 'KEY_INPUT': True,\n 'OUTPUT_LAYERS': -1,\n 'ROTOR': 'II IV V',\n 'REFLECTOR': 'B',\n 'RING_SETTING': [1, 20, 11],\n 'PLUGBOARD': 'AV BS CG DL FU HZ IN KM OW RX',\n 'LOSS_TYPE': 'CROSS_ENTROPY',\n 'LOG': 'tensorboard\\\\Fri26May2023181705',\n 'LOAD_CKPT': None}"
     },
     "execution_count": 2,
     "metadata": {},
     "output_type": "execute_result"
    }
   ],
   "source": [
    "ckpt = torch.load('Cache/Fri26May2023181705/lowest_loss.pt')\n",
    "ckpt['args']"
   ],
   "metadata": {
    "collapsed": false,
    "pycharm": {
     "name": "#%%\n"
    }
   }
  },
  {
   "cell_type": "code",
   "execution_count": 3,
   "outputs": [
    {
     "data": {
      "text/plain": "{'DEVICE': 'cuda',\n 'BATCH_SIZE': 256,\n 'LEARNING_RATE': 0.0003,\n 'EPOCHS': 1000,\n 'RNN_TYPE': 'NOT GRU',\n 'LAYERS': 2,\n 'EMB_DIM': 27,\n 'HIDDEN': 1024,\n 'DROPOUT': 0.5,\n 'BIDIRECTION': True,\n 'VOCAB_SIZE': 27,\n 'SEQ_LENGTH': 15,\n 'KEY_INPUT': True,\n 'OUTPUT_LAYERS': -1,\n 'ROTOR': 'II IV V',\n 'REFLECTOR': 'B',\n 'RING_SETTING': [1, 20, 11],\n 'PLUGBOARD': 'AV BS CG DL FU HZ IN KM OW RX',\n 'LOSS_TYPE': 'CROSS_ENTROPY',\n 'LOG': 'tensorboard/Sat27May2023002546',\n 'LOAD_CKPT': None}"
     },
     "execution_count": 3,
     "metadata": {},
     "output_type": "execute_result"
    }
   ],
   "source": [
    "ckpt = torch.load('Cache/Sat27May2023002546/lowest_loss.pt')\n",
    "ckpt['args']"
   ],
   "metadata": {
    "collapsed": false,
    "pycharm": {
     "name": "#%%\n"
    }
   }
  }
 ],
 "metadata": {
  "kernelspec": {
   "display_name": "Python 3",
   "language": "python",
   "name": "python3"
  },
  "language_info": {
   "codemirror_mode": {
    "name": "ipython",
    "version": 2
   },
   "file_extension": ".py",
   "mimetype": "text/x-python",
   "name": "python",
   "nbconvert_exporter": "python",
   "pygments_lexer": "ipython2",
   "version": "2.7.6"
  }
 },
 "nbformat": 4,
 "nbformat_minor": 0
}